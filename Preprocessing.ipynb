{
 "cells": [
  {
   "cell_type": "markdown",
   "metadata": {},
   "source": [
    "Connected to Prueba (Python 3.11.11)"
   ]
  },
  {
   "cell_type": "code",
   "execution_count": 3,
   "id": "a60f339c-4c59-4608-a7f4-130cfae10fc1",
   "metadata": {},
   "outputs": [],
   "source": [
    "import zipfile\n",
    "import pandas as pd"
   ]
  },
  {
   "cell_type": "code",
   "execution_count": 7,
   "id": "d4e522f2-3d3f-43c0-ba1a-4ca0f7a2957f",
   "metadata": {},
   "outputs": [
    {
     "name": "stdout",
     "output_type": "stream",
     "text": [
      "Files in the archive: ['webLink.xlsx', 'legalBasis.xlsx', 'topics.xlsx', 'organization.xlsx', 'webItem.xlsx', 'euroSciVoc.xlsx', 'project.xlsx']\n"
     ]
    },
    {
     "data": {
      "application/vnd.microsoft.datawrangler.viewer.v0+json": {
       "columns": [
        {
         "name": "index",
         "rawType": "int64",
         "type": "integer"
        },
        {
         "name": "id",
         "rawType": "int64",
         "type": "integer"
        },
        {
         "name": "acronym",
         "rawType": "object",
         "type": "string"
        },
        {
         "name": "status",
         "rawType": "object",
         "type": "string"
        },
        {
         "name": "title",
         "rawType": "object",
         "type": "string"
        },
        {
         "name": "startDate",
         "rawType": "object",
         "type": "string"
        },
        {
         "name": "endDate",
         "rawType": "object",
         "type": "string"
        },
        {
         "name": "totalCost",
         "rawType": "object",
         "type": "string"
        },
        {
         "name": "ecMaxContribution",
         "rawType": "object",
         "type": "string"
        },
        {
         "name": "legalBasis",
         "rawType": "object",
         "type": "string"
        },
        {
         "name": "topics",
         "rawType": "object",
         "type": "string"
        },
        {
         "name": "ecSignatureDate",
         "rawType": "object",
         "type": "string"
        },
        {
         "name": "frameworkProgramme",
         "rawType": "object",
         "type": "string"
        },
        {
         "name": "masterCall",
         "rawType": "object",
         "type": "string"
        },
        {
         "name": "subCall",
         "rawType": "object",
         "type": "string"
        },
        {
         "name": "fundingScheme",
         "rawType": "object",
         "type": "string"
        },
        {
         "name": "nature",
         "rawType": "float64",
         "type": "float"
        },
        {
         "name": "objective",
         "rawType": "object",
         "type": "string"
        },
        {
         "name": "contentUpdateDate",
         "rawType": "object",
         "type": "string"
        },
        {
         "name": "rcn",
         "rawType": "int64",
         "type": "integer"
        },
        {
         "name": "grantDoi",
         "rawType": "object",
         "type": "string"
        }
       ],
       "conversionMethod": "pd.DataFrame",
       "ref": "cf1b2e97-d810-4ffe-92e5-cbfa51c1664b",
       "rows": [
        [
         "0",
         "101159220",
         "PvSeroRDT",
         "SIGNED",
         "A point-of-care serological rapid diagnostic test for risk of Plasmodium vivax hypnozoite infection (PvSeroRDT)",
         "2025-02-01",
         "2030-01-31",
         "4062396,23",
         "4062396,23",
         "HORIZON.2.1",
         "HORIZON-JU-GH-EDCTP3-2023-02-02-two-stage",
         "2024-12-09",
         "HORIZON",
         "HORIZON-JU-GH-EDCTP3-2023-02-two-stage",
         "HORIZON-JU-GH-EDCTP3-2023-02-two-stage",
         "HORIZON-JU-RIA",
         null,
         "Plasmodium vivax is considered the most difficult species of human malaria parasite to eliminate because of the inability of conventional diagnostics to detect individuals who carry dormant liver forms and sustain malaria transmission. The consortium has developed the first diagnostic test that addresses this problem. PvSeroRDT aims to develop a point-of-care (POC) rapid diagnostic test (RDT) to transfer the consortium’s validated lab-based test to the field to support implementation of the P. vivax Serological Test and Treatment (PvSeroTAT) malaria control strategy.      The PvSeroRDT specific objectives are: 1) Develop a POC RDT using lateral flow technology to measure antibodies to four P. vivax proteins that are biomarkers for the dormant liver-stage of P. vivax. 2) Establish Africa-based manufacturing capacity at DIATROPIX (Senegal) following RDT development at Abingdon Health, a UK-based SME specialising in lateral flow assays.3) Validate RDT performance with bio-banked samples, followed by field-based clinical validation on freshly collected samples in Ethiopia and Madagascar.4) Develop a clear regulatory strategy to streamline market authorization and access to this first-in-class P. vivax serological testing. PvSeroRDT addresses all expected outcomes and impacts of this call topic and work program, respectively. Specifically, it will contribute a robust POC diagnostic to the pipeline in sub-Saharan Africa (SSA) and enable the implementation of the AU-EU Innovation Agenda for public health. The project is designed to address the WHO’s preferred profile for P. vivax diagnosis, to translate an SME prototype to Africa-based industrial design, and to test clinical performance in several SSA sites, thus enhancing international cooperation in SSA and improving training opportunities in SSA. Ultimately, PvSeroRDT will facilitate implementation of PvSeroTAT – a new intervention for malaria elimination.",
         "2024-12-24 11:18:48",
         "268210",
         "10.3030/101159220"
        ],
        [
         "1",
         "101096150",
         "BIOBoost",
         "SIGNED",
         "Boosting innovation agencies for bioeconomy value chains",
         "2023-02-01",
         "2025-01-31",
         "0",
         "500000",
         "HORIZON.3.2",
         "HORIZON-EIE-2022-CONNECT-01-01",
         "2022-11-25",
         "HORIZON",
         "HORIZON-EIE-2022-CONNECT-01",
         "HORIZON-EIE-2022-CONNECT-01",
         "HORIZON-CSA",
         null,
         "The overall objectives of the BIOBoost project are to increase the latent potential of the participating innovation agencies, to learn from leading innovator regions, and to cement this knowledge and experience in the organisations, building and expanding networks, expanding the cooperation and enlarging the participation of more diverse innovation stakeholders and territories to existing successful initiatives in the bioeconomy, including agri-food, forestry, bio-based chemicals, materials and products, and bioenergy. The partnership will implement a range of activities via peer-to-peer learning, including study visits and staff exchanges, to develop closer relationships within the partnership, and with the wider regional innovation ecosystems, as well as to learn improved innovation support measures.  These will be cemented via operational work to build and develop innovation ecosystems and SMEs via hackathons and challenges (160 organisations involved),  by providing direct SME support on innovation management (24 cross-border KAM cases), and helping widening country SMEs towards financing of innovation projects (50+ cases). Over 450 SMEs will be engaged with during the implementation of the project, which will include active cooperation with 20 other innovation ecosystems. BIOBoost connects 7 homogenous EU regions in terms of similarities of RIS3 and S3 Platform synergies related to bioeconomy and digitalisation. The multidisciplinary partnership has been strategically selected, to work in  an inclusive and interactive bottom-up process, to discover potential new activities, and identify new opportunities that emerge from this interaction. Despite the homogeneity in terms of regional smart specialisation, the consortium consists of partners with a wide variety of complementary skills and experience, covering a wide geographical area and with considerable economic, social and environmental differences.",
         "2022-12-01 14:09:06",
         "243343",
         "10.3030/101096150"
        ],
        [
         "2",
         "101093997",
         "GlycanTrigger",
         "SIGNED",
         "GLYCANS AS MASTER TRIGGERS OF HEALTH TO INTESTINAL INFLAMMATION TRANSITION",
         "2023-01-01",
         "2028-12-31",
         "6771571",
         "6771571",
         "HORIZON.2.1",
         "HORIZON-HLTH-2022-STAYHLTH-02-01",
         "2022-12-05",
         "HORIZON",
         "HORIZON-HLTH-2022-STAYHLTH-02",
         "HORIZON-HLTH-2022-STAYHLTH-02",
         "HORIZON-RIA",
         null,
         "Chronic inflammation underlies several diseases. In Crohns disease (CD), there is mounting evidence of a preclinical phase characterized by immunological changes that precede symptoms. Here, we propose a thorough and innovative approach to better understand the health-to-chronic inflammation transition occurring in patients with CD that will be translated in improved disease prediction and prevention. We will address how changes in glycosylation of the gut mucosa act as a primary event that dysregulates not only local mechanisms (imposing maladapted host-microbiome interactions) but also systemic mechanisms (promoting anti-microbial antibodies production), involving the novel concept of glycan mimicry as an early trigger of the health to inflammation transition  GlycanTrigger. Capitalizing on our recent findings showing that changes in the expression of complex branched N-glycans at gut mucosa regulate Inflammatory Bowel Disease immunopathogenesis, we here hypothesize that changes in gut glycocalyx impose early perturbations in host-microbiome interactions, leading to the exposure of altered (glyco)neoantigens, both by pathogens and host epithelial cells which trigger the activation of innate immune response. Moreover, following our recent discovery that changes in glycosylation can be detected in serum years before CD diagnosis and are correlated with increased levels of pathogenic antimicrobial antibodies (ASCA), we will here pursue the hypothesis that changes in mucosa glycans constitute a major source for the development of anti-glycan antibodies (ASCA), associated with health-to-inflammation transition. The long-term GOAL of this proposal is to unlock, through an integrative approach, a new checkpoint that regulates the transition to chronic inflammation. Our proposal will lead to breakthrough concepts in the health to chronic inflammation transition and to novel predictive tools translated in novel glyco-intervention strategies for disease prevention.",
         "2022-12-11 19:02:29",
         "243439",
         "10.3030/101093997"
        ],
        [
         "3",
         "101126531",
         "CHIKVAX_CHIM",
         "SIGNED",
         "Late-stage clinical development of Chikungunya vaccines in endemic countries (CHIKV) and  Controlled Human Infection Models for SARS-CoV2 and other beta coronaviruses (CHIM).",
         "2023-06-01",
         "2028-11-30",
         "100000000",
         "70000000",
         "HORIZON.2.1",
         "HORIZON-HLTH-2022-CEPI-15-01-IBA",
         "2023-06-15",
         "HORIZON",
         "HORIZON-HLTH-2022-CEPI-15-IBA",
         "HORIZON-HLTH-2022-CEPI-15-IBA",
         "HORIZON-COFUND",
         null,
         "A Framework Partnership Agreement (FPA) between the Coalition for Epidemic Preparedness Innovations (CEPI) and the European Union (EU) was signed in April 2019, to finance and coordinate the development of new medical countermeasures to prevent and contain infectious disease epidemics, which are of particular concern to low- and middle-income countries. As part of the FPA, a call for proposals (CfP) was launched jointly with the EU and supported the preclinical development of Rift Valley Fever Virus vaccines and the late-stage development of Chikungunya virus vaccines (CHIKV). While previous funding has led to the development of pre-licensure CHIK vaccines, in this current application we like to further advance our CHIK vaccine programme, and support CHIK vaccines that are near or have achieved regulatory licensure by supporting their clinical development into phase IV clinical trials to increase our understanding of the long-term safety, durability of protection, and effectiveness against virologically confirmed disease. Furthermore, we would like to expand the use indication by supporting clinical trials in vulnerable populations, including children, immunosuppressed and pregnant women. As part of this grant application, we also like to launch a CfP on Controlled Human Infection Models (CHIM). The overall objective of the CHIM proposal is to support research projects that increase knowledge in vaccine-induced mucosal immunity and advance the development of transmission-blocking vaccines against coronaviruses and other potential respiratory viral threats. The expected outcome of this CfP is to create a global network of experts conducting CHIM at a high level of consistency and reliability. This current grant application seeks to leverage €70M from Horizon Europe, which will be supplemented with €30M from CEPI making a pool of €100M. Awards will have a 36–48-month duration and will be administered by the CEPI secretariat.",
         "2023-09-19 19:01:01",
         "256925",
         "10.3030/101126531"
        ],
        [
         "4",
         "101113979",
         "The Oater",
         "CLOSED",
         "The Oater develops a compact machine for hyper-local fresh oat milk production to reduce waste and emissions.",
         "2023-07-01",
         "2023-12-31",
         "0",
         "75000",
         "HORIZON.3.2",
         "HORIZON-EIE-2022-SCALEUP-02-02",
         "2023-06-05",
         "HORIZON",
         "HORIZON-EIE-2022-SCALEUP-02",
         "HORIZON-EIE-2022-SCALEUP-02",
         "HORIZON-CSA",
         null,
         "The Oater is a female-founded food tech start-up from Germany that develops a compact machine for hyper-local fresh oat milk production to reduce waste and emissions. The founding team coThe Oater is a female-founded food tech start-up from Germany that develops a compact machine for hyper-local fresh oat milk production to reduce waste and emissions. The founding team consists of four members, led by CEO and Head of Hardware Sarah Nesti. With Lisa Nesti (CMO) and Henrik Burger (CFO) in the business team and Benjamin Auer (CTO) as the process engineer this diverse team is perfectly equipped to create a successful business. The founders gained prior start-up experience in a B2B e-commerce business launched in 2020 with over 30 customers and 30K Euro revenue. The entire team consists of 9 members, including two marketing experts, two business assistants and a product designer.The Oaters goal is to inspires sustainable consumption to protect and enrich life for all generations to come. We want to achieve this by downsizing the industrial production into a compact machine for local production of fresh oat milk. This doesn’t only improve taste, but also lowers costs and reduces the environmental impact. By producing the oat milk at the point of sale packaging is eliminated and transport emissions are significantly reduced due to the fact that oat milk is 90% water. The Oater’s business model is “Oat milk as a service” meaning that B2B customers borrow the machine for free and only pay by liter for the Oater packages, which consist of the ingredients needed to produce the oat milk in the machine. This model ensures constant delivery profits and scale-up as hardware profits are negligible compared to delivery service. The Oater provides a holistic ecosystem solution, consisting of the IoT machine, frequent replenishments, and a smart online platform. The main objectives are to introduce customers into our ecosystem, simplify entry and make oat milk exciting at the POS.",
         "2023-07-11 15:45:49",
         "253030",
         "10.3030/101113979"
        ]
       ],
       "shape": {
        "columns": 20,
        "rows": 5
       }
      },
      "text/html": [
       "<div>\n",
       "<style scoped>\n",
       "    .dataframe tbody tr th:only-of-type {\n",
       "        vertical-align: middle;\n",
       "    }\n",
       "\n",
       "    .dataframe tbody tr th {\n",
       "        vertical-align: top;\n",
       "    }\n",
       "\n",
       "    .dataframe thead th {\n",
       "        text-align: right;\n",
       "    }\n",
       "</style>\n",
       "<table border=\"1\" class=\"dataframe\">\n",
       "  <thead>\n",
       "    <tr style=\"text-align: right;\">\n",
       "      <th></th>\n",
       "      <th>id</th>\n",
       "      <th>acronym</th>\n",
       "      <th>status</th>\n",
       "      <th>title</th>\n",
       "      <th>startDate</th>\n",
       "      <th>endDate</th>\n",
       "      <th>totalCost</th>\n",
       "      <th>ecMaxContribution</th>\n",
       "      <th>legalBasis</th>\n",
       "      <th>topics</th>\n",
       "      <th>ecSignatureDate</th>\n",
       "      <th>frameworkProgramme</th>\n",
       "      <th>masterCall</th>\n",
       "      <th>subCall</th>\n",
       "      <th>fundingScheme</th>\n",
       "      <th>nature</th>\n",
       "      <th>objective</th>\n",
       "      <th>contentUpdateDate</th>\n",
       "      <th>rcn</th>\n",
       "      <th>grantDoi</th>\n",
       "    </tr>\n",
       "  </thead>\n",
       "  <tbody>\n",
       "    <tr>\n",
       "      <th>0</th>\n",
       "      <td>101159220</td>\n",
       "      <td>PvSeroRDT</td>\n",
       "      <td>SIGNED</td>\n",
       "      <td>A point-of-care serological rapid diagnostic t...</td>\n",
       "      <td>2025-02-01</td>\n",
       "      <td>2030-01-31</td>\n",
       "      <td>4062396,23</td>\n",
       "      <td>4062396,23</td>\n",
       "      <td>HORIZON.2.1</td>\n",
       "      <td>HORIZON-JU-GH-EDCTP3-2023-02-02-two-stage</td>\n",
       "      <td>2024-12-09</td>\n",
       "      <td>HORIZON</td>\n",
       "      <td>HORIZON-JU-GH-EDCTP3-2023-02-two-stage</td>\n",
       "      <td>HORIZON-JU-GH-EDCTP3-2023-02-two-stage</td>\n",
       "      <td>HORIZON-JU-RIA</td>\n",
       "      <td>NaN</td>\n",
       "      <td>Plasmodium vivax is considered the most diffic...</td>\n",
       "      <td>2024-12-24 11:18:48</td>\n",
       "      <td>268210</td>\n",
       "      <td>10.3030/101159220</td>\n",
       "    </tr>\n",
       "    <tr>\n",
       "      <th>1</th>\n",
       "      <td>101096150</td>\n",
       "      <td>BIOBoost</td>\n",
       "      <td>SIGNED</td>\n",
       "      <td>Boosting innovation agencies for bioeconomy va...</td>\n",
       "      <td>2023-02-01</td>\n",
       "      <td>2025-01-31</td>\n",
       "      <td>0</td>\n",
       "      <td>500000</td>\n",
       "      <td>HORIZON.3.2</td>\n",
       "      <td>HORIZON-EIE-2022-CONNECT-01-01</td>\n",
       "      <td>2022-11-25</td>\n",
       "      <td>HORIZON</td>\n",
       "      <td>HORIZON-EIE-2022-CONNECT-01</td>\n",
       "      <td>HORIZON-EIE-2022-CONNECT-01</td>\n",
       "      <td>HORIZON-CSA</td>\n",
       "      <td>NaN</td>\n",
       "      <td>The overall objectives of the BIOBoost project...</td>\n",
       "      <td>2022-12-01 14:09:06</td>\n",
       "      <td>243343</td>\n",
       "      <td>10.3030/101096150</td>\n",
       "    </tr>\n",
       "    <tr>\n",
       "      <th>2</th>\n",
       "      <td>101093997</td>\n",
       "      <td>GlycanTrigger</td>\n",
       "      <td>SIGNED</td>\n",
       "      <td>GLYCANS AS MASTER TRIGGERS OF HEALTH TO INTEST...</td>\n",
       "      <td>2023-01-01</td>\n",
       "      <td>2028-12-31</td>\n",
       "      <td>6771571</td>\n",
       "      <td>6771571</td>\n",
       "      <td>HORIZON.2.1</td>\n",
       "      <td>HORIZON-HLTH-2022-STAYHLTH-02-01</td>\n",
       "      <td>2022-12-05</td>\n",
       "      <td>HORIZON</td>\n",
       "      <td>HORIZON-HLTH-2022-STAYHLTH-02</td>\n",
       "      <td>HORIZON-HLTH-2022-STAYHLTH-02</td>\n",
       "      <td>HORIZON-RIA</td>\n",
       "      <td>NaN</td>\n",
       "      <td>Chronic inflammation underlies several disease...</td>\n",
       "      <td>2022-12-11 19:02:29</td>\n",
       "      <td>243439</td>\n",
       "      <td>10.3030/101093997</td>\n",
       "    </tr>\n",
       "    <tr>\n",
       "      <th>3</th>\n",
       "      <td>101126531</td>\n",
       "      <td>CHIKVAX_CHIM</td>\n",
       "      <td>SIGNED</td>\n",
       "      <td>Late-stage clinical development of Chikungunya...</td>\n",
       "      <td>2023-06-01</td>\n",
       "      <td>2028-11-30</td>\n",
       "      <td>100000000</td>\n",
       "      <td>70000000</td>\n",
       "      <td>HORIZON.2.1</td>\n",
       "      <td>HORIZON-HLTH-2022-CEPI-15-01-IBA</td>\n",
       "      <td>2023-06-15</td>\n",
       "      <td>HORIZON</td>\n",
       "      <td>HORIZON-HLTH-2022-CEPI-15-IBA</td>\n",
       "      <td>HORIZON-HLTH-2022-CEPI-15-IBA</td>\n",
       "      <td>HORIZON-COFUND</td>\n",
       "      <td>NaN</td>\n",
       "      <td>A Framework Partnership Agreement (FPA) betwee...</td>\n",
       "      <td>2023-09-19 19:01:01</td>\n",
       "      <td>256925</td>\n",
       "      <td>10.3030/101126531</td>\n",
       "    </tr>\n",
       "    <tr>\n",
       "      <th>4</th>\n",
       "      <td>101113979</td>\n",
       "      <td>The Oater</td>\n",
       "      <td>CLOSED</td>\n",
       "      <td>The Oater develops a compact machine for hyper...</td>\n",
       "      <td>2023-07-01</td>\n",
       "      <td>2023-12-31</td>\n",
       "      <td>0</td>\n",
       "      <td>75000</td>\n",
       "      <td>HORIZON.3.2</td>\n",
       "      <td>HORIZON-EIE-2022-SCALEUP-02-02</td>\n",
       "      <td>2023-06-05</td>\n",
       "      <td>HORIZON</td>\n",
       "      <td>HORIZON-EIE-2022-SCALEUP-02</td>\n",
       "      <td>HORIZON-EIE-2022-SCALEUP-02</td>\n",
       "      <td>HORIZON-CSA</td>\n",
       "      <td>NaN</td>\n",
       "      <td>The Oater is a female-founded food tech start-...</td>\n",
       "      <td>2023-07-11 15:45:49</td>\n",
       "      <td>253030</td>\n",
       "      <td>10.3030/101113979</td>\n",
       "    </tr>\n",
       "  </tbody>\n",
       "</table>\n",
       "</div>"
      ],
      "text/plain": [
       "          id        acronym  status  \\\n",
       "0  101159220      PvSeroRDT  SIGNED   \n",
       "1  101096150       BIOBoost  SIGNED   \n",
       "2  101093997  GlycanTrigger  SIGNED   \n",
       "3  101126531   CHIKVAX_CHIM  SIGNED   \n",
       "4  101113979      The Oater  CLOSED   \n",
       "\n",
       "                                               title   startDate     endDate  \\\n",
       "0  A point-of-care serological rapid diagnostic t...  2025-02-01  2030-01-31   \n",
       "1  Boosting innovation agencies for bioeconomy va...  2023-02-01  2025-01-31   \n",
       "2  GLYCANS AS MASTER TRIGGERS OF HEALTH TO INTEST...  2023-01-01  2028-12-31   \n",
       "3  Late-stage clinical development of Chikungunya...  2023-06-01  2028-11-30   \n",
       "4  The Oater develops a compact machine for hyper...  2023-07-01  2023-12-31   \n",
       "\n",
       "    totalCost ecMaxContribution   legalBasis  \\\n",
       "0  4062396,23        4062396,23  HORIZON.2.1   \n",
       "1           0            500000  HORIZON.3.2   \n",
       "2     6771571           6771571  HORIZON.2.1   \n",
       "3   100000000          70000000  HORIZON.2.1   \n",
       "4           0             75000  HORIZON.3.2   \n",
       "\n",
       "                                      topics ecSignatureDate  \\\n",
       "0  HORIZON-JU-GH-EDCTP3-2023-02-02-two-stage      2024-12-09   \n",
       "1             HORIZON-EIE-2022-CONNECT-01-01      2022-11-25   \n",
       "2           HORIZON-HLTH-2022-STAYHLTH-02-01      2022-12-05   \n",
       "3           HORIZON-HLTH-2022-CEPI-15-01-IBA      2023-06-15   \n",
       "4             HORIZON-EIE-2022-SCALEUP-02-02      2023-06-05   \n",
       "\n",
       "  frameworkProgramme                              masterCall  \\\n",
       "0            HORIZON  HORIZON-JU-GH-EDCTP3-2023-02-two-stage   \n",
       "1            HORIZON             HORIZON-EIE-2022-CONNECT-01   \n",
       "2            HORIZON           HORIZON-HLTH-2022-STAYHLTH-02   \n",
       "3            HORIZON           HORIZON-HLTH-2022-CEPI-15-IBA   \n",
       "4            HORIZON             HORIZON-EIE-2022-SCALEUP-02   \n",
       "\n",
       "                                  subCall   fundingScheme  nature  \\\n",
       "0  HORIZON-JU-GH-EDCTP3-2023-02-two-stage  HORIZON-JU-RIA     NaN   \n",
       "1             HORIZON-EIE-2022-CONNECT-01     HORIZON-CSA     NaN   \n",
       "2           HORIZON-HLTH-2022-STAYHLTH-02     HORIZON-RIA     NaN   \n",
       "3           HORIZON-HLTH-2022-CEPI-15-IBA  HORIZON-COFUND     NaN   \n",
       "4             HORIZON-EIE-2022-SCALEUP-02     HORIZON-CSA     NaN   \n",
       "\n",
       "                                           objective    contentUpdateDate  \\\n",
       "0  Plasmodium vivax is considered the most diffic...  2024-12-24 11:18:48   \n",
       "1  The overall objectives of the BIOBoost project...  2022-12-01 14:09:06   \n",
       "2  Chronic inflammation underlies several disease...  2022-12-11 19:02:29   \n",
       "3  A Framework Partnership Agreement (FPA) betwee...  2023-09-19 19:01:01   \n",
       "4  The Oater is a female-founded food tech start-...  2023-07-11 15:45:49   \n",
       "\n",
       "      rcn           grantDoi  \n",
       "0  268210  10.3030/101159220  \n",
       "1  243343  10.3030/101096150  \n",
       "2  243439  10.3030/101093997  \n",
       "3  256925  10.3030/101126531  \n",
       "4  253030  10.3030/101113979  "
      ]
     },
     "execution_count": 7,
     "metadata": {},
     "output_type": "execute_result"
    }
   ],
   "source": [
    "zip_path = \"./Data/cordis-HORIZONprojects-xlsx.zip\"\n",
    "csv_filename = \"project.xlsx\"\n",
    "\n",
    "# Open the ZIP file and read the CSV directly\n",
    "with zipfile.ZipFile(zip_path, 'r') as zip_ref:\n",
    "    # List all files in the archive (optional, for verification)\n",
    "    print(\"Files in the archive:\", zip_ref.namelist())\n",
    "    \n",
    "    # Read the CSV\n",
    "    with zip_ref.open(csv_filename) as file:\n",
    "        df = pd.read_excel(file)\n",
    "\n",
    "df.head()"
   ]
  },
  {
   "cell_type": "code",
   "execution_count": null,
   "id": "d99032ee-401a-4e47-a893-07104c74a9e7",
   "metadata": {},
   "outputs": [
    {
     "data": {
      "text/plain": [
       "Index(['id', 'acronym', 'status', 'title', 'startDate', 'endDate', 'totalCost',\n",
       "       'ecMaxContribution', 'legalBasis', 'topics', 'ecSignatureDate',\n",
       "       'frameworkProgramme', 'masterCall', 'subCall', 'fundingScheme',\n",
       "       'nature', 'objective', 'contentUpdateDate', 'rcn', 'grantDoi'],\n",
       "      dtype='object')"
      ]
     },
     "execution_count": 9,
     "metadata": {},
     "output_type": "execute_result"
    }
   ],
   "source": [
    "df.columns"
   ]
  },
  {
   "cell_type": "code",
   "execution_count": null,
   "id": "7d78ce7e-7682-4aa4-b23f-5ae1fbd08595",
   "metadata": {},
   "outputs": [
    {
     "name": "stdout",
     "output_type": "stream",
     "text": [
      "Files in the archive: ['webLink.xlsx', 'legalBasis.xlsx', 'topics.xlsx', 'organization.xlsx', 'webItem.xlsx', 'euroSciVoc.xlsx', 'project.xlsx']\n"
     ]
    },
    {
     "name": "stderr",
     "output_type": "stream",
     "text": [
      "c:\\Users\\migue\\anaconda3\\envs\\Prueba\\Lib\\site-packages\\openpyxl\\styles\\stylesheet.py:237: UserWarning: Workbook contains no default style, apply openpyxl's default\n",
      "  warn(\"Workbook contains no default style, apply openpyxl's default\")\n"
     ]
    }
   ],
   "source": [
    "csv_filename = \"organization.xlsx\"\n",
    "\n",
    "# Open the ZIP file and read the CSV directly\n",
    "with zipfile.ZipFile(zip_path, 'r') as zip_ref:\n",
    "    # List all files in the archive (optional, for verification)\n",
    "    print(\"Files in the archive:\", zip_ref.namelist())\n",
    "    \n",
    "    # Read the CSV\n",
    "    with zip_ref.open(csv_filename) as file:\n",
    "        df1 = pd.read_excel(file)"
   ]
  },
  {
   "cell_type": "code",
   "execution_count": null,
   "id": "8c3fb903-a9b5-477e-b3eb-8337742dfb10",
   "metadata": {},
   "outputs": [
    {
     "data": {
      "application/vnd.microsoft.datawrangler.viewer.v0+json": {
       "columns": [
        {
         "name": "index",
         "rawType": "int64",
         "type": "integer"
        },
        {
         "name": "projectID",
         "rawType": "int64",
         "type": "integer"
        },
        {
         "name": "projectAcronym",
         "rawType": "object",
         "type": "string"
        },
        {
         "name": "organisationID",
         "rawType": "int64",
         "type": "integer"
        },
        {
         "name": "vatNumber",
         "rawType": "object",
         "type": "unknown"
        },
        {
         "name": "name",
         "rawType": "object",
         "type": "string"
        },
        {
         "name": "shortName",
         "rawType": "object",
         "type": "unknown"
        },
        {
         "name": "SME",
         "rawType": "object",
         "type": "unknown"
        },
        {
         "name": "activityType",
         "rawType": "object",
         "type": "string"
        },
        {
         "name": "street",
         "rawType": "object",
         "type": "string"
        },
        {
         "name": "postCode",
         "rawType": "object",
         "type": "string"
        },
        {
         "name": "city",
         "rawType": "object",
         "type": "string"
        },
        {
         "name": "country",
         "rawType": "object",
         "type": "string"
        },
        {
         "name": "nutsCode",
         "rawType": "object",
         "type": "string"
        },
        {
         "name": "geolocation",
         "rawType": "object",
         "type": "string"
        },
        {
         "name": "organizationURL",
         "rawType": "object",
         "type": "unknown"
        },
        {
         "name": "contactForm",
         "rawType": "object",
         "type": "string"
        },
        {
         "name": "contentUpdateDate",
         "rawType": "object",
         "type": "string"
        },
        {
         "name": "rcn",
         "rawType": "int64",
         "type": "integer"
        },
        {
         "name": "order",
         "rawType": "int64",
         "type": "integer"
        },
        {
         "name": "role",
         "rawType": "object",
         "type": "string"
        },
        {
         "name": "ecContribution",
         "rawType": "float64",
         "type": "float"
        },
        {
         "name": "netEcContribution",
         "rawType": "float64",
         "type": "float"
        },
        {
         "name": "totalCost",
         "rawType": "object",
         "type": "string"
        },
        {
         "name": "endOfParticipation",
         "rawType": "bool",
         "type": "boolean"
        },
        {
         "name": "active",
         "rawType": "float64",
         "type": "float"
        }
       ],
       "conversionMethod": "pd.DataFrame",
       "ref": "e8dc9364-fbac-47b2-a62f-a5c9c4139491",
       "rows": [
        [
         "0",
         "101159220",
         "PvSeroRDT",
         "986872084",
         null,
         "Institut Pasteur de Madagascar",
         "IPM",
         "False",
         "REC",
         "Ambatofotsikely - Avaradoha",
         "101",
         "Antananarivo",
         "MG",
         "MG",
         "-18.7920779,47.7823214",
         null,
         "https://ec.europa.eu/info/funding-tenders/opportunities/portal/screen/contact-form/project/986872084/101159220",
         "2024-12-24 11:18:48",
         "1947090",
         "4",
         "associatedPartner",
         null,
         "0.0",
         "0",
         "False",
         null
        ],
        [
         "1",
         "101159220",
         "PvSeroRDT",
         "999542806",
         null,
         "INSTITUT PASTEUR DE DAKAR",
         null,
         "False",
         "REC",
         "AVENUE PASTEUR 36",
         "DAKAR",
         "Dakar",
         "SN",
         "SN",
         "14.693425,-17.447938",
         null,
         "https://ec.europa.eu/info/funding-tenders/opportunities/portal/screen/contact-form/project/999542806/101159220",
         "2024-12-24 11:18:48",
         "1906512",
         "2",
         "participant",
         "1777625.0",
         "1777625.0",
         "1777625",
         "False",
         null
        ],
        [
         "2",
         "101159220",
         "PvSeroRDT",
         "889740358",
         null,
         "ARMAUER HANSEN RESEARCH INSTITUTE",
         null,
         "False",
         "REC",
         "JIMMA ROAD ALERT COMPOUND",
         "1005",
         "Addis Ababa",
         "ET",
         "ET",
         "9.0,38.75",
         null,
         "https://ec.europa.eu/info/funding-tenders/opportunities/portal/screen/contact-form/project/889740358/101159220",
         "2024-12-24 11:18:48",
         "1975141",
         "3",
         "participant",
         "272174.38",
         "272174.38",
         "272174,38",
         "False",
         null
        ],
        [
         "3",
         "101159220",
         "PvSeroRDT",
         "999912667",
         "GB233756066",
         "LONDON SCHOOL OF HYGIENE AND TROPICAL MEDICINE ROYAL CHARTER",
         "LSHTM",
         "False",
         "HES",
         "KEPPEL STREET",
         "WC1E 7HT",
         "London",
         "UK",
         "UK",
         "51.5207316,-0.1294867",
         "http://www.lshtm.ac.uk/",
         "https://ec.europa.eu/info/funding-tenders/opportunities/portal/screen/contact-form/project/999912667/101159220",
         "2024-12-24 11:18:48",
         "1906028",
         "6",
         "associatedPartner",
         null,
         "0.0",
         "0",
         "False",
         null
        ],
        [
         "4",
         "101159220",
         "PvSeroRDT",
         "999679964",
         null,
         "FOUNDATION FOR INNOVATIVE NEW DIAGNOSTICS",
         "FIND, the global alliance for diagnostics",
         "False",
         "OTH",
         "CAMPUS BIOTECH, CHEMIN DES MINES 9",
         "1202",
         "Geneve",
         "CH",
         "CH013",
         "46.221901,6.148001732215738",
         "http://www.finddiagnostics.org/",
         "https://ec.europa.eu/info/funding-tenders/opportunities/portal/screen/contact-form/project/999679964/101159220",
         "2024-12-24 11:18:48",
         "1906308",
         "7",
         "associatedPartner",
         null,
         "0.0",
         "0",
         "False",
         null
        ]
       ],
       "shape": {
        "columns": 25,
        "rows": 5
       }
      },
      "text/html": [
       "<div>\n",
       "<style scoped>\n",
       "    .dataframe tbody tr th:only-of-type {\n",
       "        vertical-align: middle;\n",
       "    }\n",
       "\n",
       "    .dataframe tbody tr th {\n",
       "        vertical-align: top;\n",
       "    }\n",
       "\n",
       "    .dataframe thead th {\n",
       "        text-align: right;\n",
       "    }\n",
       "</style>\n",
       "<table border=\"1\" class=\"dataframe\">\n",
       "  <thead>\n",
       "    <tr style=\"text-align: right;\">\n",
       "      <th></th>\n",
       "      <th>projectID</th>\n",
       "      <th>projectAcronym</th>\n",
       "      <th>organisationID</th>\n",
       "      <th>vatNumber</th>\n",
       "      <th>name</th>\n",
       "      <th>shortName</th>\n",
       "      <th>SME</th>\n",
       "      <th>activityType</th>\n",
       "      <th>street</th>\n",
       "      <th>postCode</th>\n",
       "      <th>...</th>\n",
       "      <th>contactForm</th>\n",
       "      <th>contentUpdateDate</th>\n",
       "      <th>rcn</th>\n",
       "      <th>order</th>\n",
       "      <th>role</th>\n",
       "      <th>ecContribution</th>\n",
       "      <th>netEcContribution</th>\n",
       "      <th>totalCost</th>\n",
       "      <th>endOfParticipation</th>\n",
       "      <th>active</th>\n",
       "    </tr>\n",
       "  </thead>\n",
       "  <tbody>\n",
       "    <tr>\n",
       "      <th>0</th>\n",
       "      <td>101159220</td>\n",
       "      <td>PvSeroRDT</td>\n",
       "      <td>986872084</td>\n",
       "      <td>NaN</td>\n",
       "      <td>Institut Pasteur de Madagascar</td>\n",
       "      <td>IPM</td>\n",
       "      <td>False</td>\n",
       "      <td>REC</td>\n",
       "      <td>Ambatofotsikely - Avaradoha</td>\n",
       "      <td>101</td>\n",
       "      <td>...</td>\n",
       "      <td>https://ec.europa.eu/info/funding-tenders/oppo...</td>\n",
       "      <td>2024-12-24 11:18:48</td>\n",
       "      <td>1947090</td>\n",
       "      <td>4</td>\n",
       "      <td>associatedPartner</td>\n",
       "      <td>NaN</td>\n",
       "      <td>0.00</td>\n",
       "      <td>0</td>\n",
       "      <td>False</td>\n",
       "      <td>NaN</td>\n",
       "    </tr>\n",
       "    <tr>\n",
       "      <th>1</th>\n",
       "      <td>101159220</td>\n",
       "      <td>PvSeroRDT</td>\n",
       "      <td>999542806</td>\n",
       "      <td>NaN</td>\n",
       "      <td>INSTITUT PASTEUR DE DAKAR</td>\n",
       "      <td>NaN</td>\n",
       "      <td>False</td>\n",
       "      <td>REC</td>\n",
       "      <td>AVENUE PASTEUR 36</td>\n",
       "      <td>DAKAR</td>\n",
       "      <td>...</td>\n",
       "      <td>https://ec.europa.eu/info/funding-tenders/oppo...</td>\n",
       "      <td>2024-12-24 11:18:48</td>\n",
       "      <td>1906512</td>\n",
       "      <td>2</td>\n",
       "      <td>participant</td>\n",
       "      <td>1777625.00</td>\n",
       "      <td>1777625.00</td>\n",
       "      <td>1777625</td>\n",
       "      <td>False</td>\n",
       "      <td>NaN</td>\n",
       "    </tr>\n",
       "    <tr>\n",
       "      <th>2</th>\n",
       "      <td>101159220</td>\n",
       "      <td>PvSeroRDT</td>\n",
       "      <td>889740358</td>\n",
       "      <td>NaN</td>\n",
       "      <td>ARMAUER HANSEN RESEARCH INSTITUTE</td>\n",
       "      <td>NaN</td>\n",
       "      <td>False</td>\n",
       "      <td>REC</td>\n",
       "      <td>JIMMA ROAD ALERT COMPOUND</td>\n",
       "      <td>1005</td>\n",
       "      <td>...</td>\n",
       "      <td>https://ec.europa.eu/info/funding-tenders/oppo...</td>\n",
       "      <td>2024-12-24 11:18:48</td>\n",
       "      <td>1975141</td>\n",
       "      <td>3</td>\n",
       "      <td>participant</td>\n",
       "      <td>272174.38</td>\n",
       "      <td>272174.38</td>\n",
       "      <td>272174,38</td>\n",
       "      <td>False</td>\n",
       "      <td>NaN</td>\n",
       "    </tr>\n",
       "    <tr>\n",
       "      <th>3</th>\n",
       "      <td>101159220</td>\n",
       "      <td>PvSeroRDT</td>\n",
       "      <td>999912667</td>\n",
       "      <td>GB233756066</td>\n",
       "      <td>LONDON SCHOOL OF HYGIENE AND TROPICAL MEDICINE...</td>\n",
       "      <td>LSHTM</td>\n",
       "      <td>False</td>\n",
       "      <td>HES</td>\n",
       "      <td>KEPPEL STREET</td>\n",
       "      <td>WC1E 7HT</td>\n",
       "      <td>...</td>\n",
       "      <td>https://ec.europa.eu/info/funding-tenders/oppo...</td>\n",
       "      <td>2024-12-24 11:18:48</td>\n",
       "      <td>1906028</td>\n",
       "      <td>6</td>\n",
       "      <td>associatedPartner</td>\n",
       "      <td>NaN</td>\n",
       "      <td>0.00</td>\n",
       "      <td>0</td>\n",
       "      <td>False</td>\n",
       "      <td>NaN</td>\n",
       "    </tr>\n",
       "    <tr>\n",
       "      <th>4</th>\n",
       "      <td>101159220</td>\n",
       "      <td>PvSeroRDT</td>\n",
       "      <td>999679964</td>\n",
       "      <td>NaN</td>\n",
       "      <td>FOUNDATION FOR INNOVATIVE NEW DIAGNOSTICS</td>\n",
       "      <td>FIND, the global alliance for diagnostics</td>\n",
       "      <td>False</td>\n",
       "      <td>OTH</td>\n",
       "      <td>CAMPUS BIOTECH, CHEMIN DES MINES 9</td>\n",
       "      <td>1202</td>\n",
       "      <td>...</td>\n",
       "      <td>https://ec.europa.eu/info/funding-tenders/oppo...</td>\n",
       "      <td>2024-12-24 11:18:48</td>\n",
       "      <td>1906308</td>\n",
       "      <td>7</td>\n",
       "      <td>associatedPartner</td>\n",
       "      <td>NaN</td>\n",
       "      <td>0.00</td>\n",
       "      <td>0</td>\n",
       "      <td>False</td>\n",
       "      <td>NaN</td>\n",
       "    </tr>\n",
       "  </tbody>\n",
       "</table>\n",
       "<p>5 rows × 25 columns</p>\n",
       "</div>"
      ],
      "text/plain": [
       "   projectID projectAcronym  organisationID    vatNumber  \\\n",
       "0  101159220      PvSeroRDT       986872084          NaN   \n",
       "1  101159220      PvSeroRDT       999542806          NaN   \n",
       "2  101159220      PvSeroRDT       889740358          NaN   \n",
       "3  101159220      PvSeroRDT       999912667  GB233756066   \n",
       "4  101159220      PvSeroRDT       999679964          NaN   \n",
       "\n",
       "                                                name  \\\n",
       "0                     Institut Pasteur de Madagascar   \n",
       "1                          INSTITUT PASTEUR DE DAKAR   \n",
       "2                  ARMAUER HANSEN RESEARCH INSTITUTE   \n",
       "3  LONDON SCHOOL OF HYGIENE AND TROPICAL MEDICINE...   \n",
       "4          FOUNDATION FOR INNOVATIVE NEW DIAGNOSTICS   \n",
       "\n",
       "                                   shortName    SME activityType  \\\n",
       "0                                        IPM  False          REC   \n",
       "1                                        NaN  False          REC   \n",
       "2                                        NaN  False          REC   \n",
       "3                                      LSHTM  False          HES   \n",
       "4  FIND, the global alliance for diagnostics  False          OTH   \n",
       "\n",
       "                               street  postCode  ...  \\\n",
       "0         Ambatofotsikely - Avaradoha       101  ...   \n",
       "1                   AVENUE PASTEUR 36     DAKAR  ...   \n",
       "2           JIMMA ROAD ALERT COMPOUND      1005  ...   \n",
       "3                       KEPPEL STREET  WC1E 7HT  ...   \n",
       "4  CAMPUS BIOTECH, CHEMIN DES MINES 9      1202  ...   \n",
       "\n",
       "                                         contactForm    contentUpdateDate  \\\n",
       "0  https://ec.europa.eu/info/funding-tenders/oppo...  2024-12-24 11:18:48   \n",
       "1  https://ec.europa.eu/info/funding-tenders/oppo...  2024-12-24 11:18:48   \n",
       "2  https://ec.europa.eu/info/funding-tenders/oppo...  2024-12-24 11:18:48   \n",
       "3  https://ec.europa.eu/info/funding-tenders/oppo...  2024-12-24 11:18:48   \n",
       "4  https://ec.europa.eu/info/funding-tenders/oppo...  2024-12-24 11:18:48   \n",
       "\n",
       "       rcn order               role ecContribution netEcContribution  \\\n",
       "0  1947090     4  associatedPartner            NaN              0.00   \n",
       "1  1906512     2        participant     1777625.00        1777625.00   \n",
       "2  1975141     3        participant      272174.38         272174.38   \n",
       "3  1906028     6  associatedPartner            NaN              0.00   \n",
       "4  1906308     7  associatedPartner            NaN              0.00   \n",
       "\n",
       "   totalCost  endOfParticipation active  \n",
       "0          0               False    NaN  \n",
       "1    1777625               False    NaN  \n",
       "2  272174,38               False    NaN  \n",
       "3          0               False    NaN  \n",
       "4          0               False    NaN  \n",
       "\n",
       "[5 rows x 25 columns]"
      ]
     },
     "execution_count": 11,
     "metadata": {},
     "output_type": "execute_result"
    }
   ],
   "source": [
    "df1.head()"
   ]
  },
  {
   "cell_type": "code",
   "execution_count": null,
   "id": "0697c792-31cf-4d24-b019-faed8c069bf8",
   "metadata": {},
   "outputs": [
    {
     "data": {
      "text/plain": [
       "Index(['projectID', 'projectAcronym', 'organisationID', 'vatNumber', 'name',\n",
       "       'shortName', 'SME', 'activityType', 'street', 'postCode', 'city',\n",
       "       'country', 'nutsCode', 'geolocation', 'organizationURL', 'contactForm',\n",
       "       'contentUpdateDate', 'rcn', 'order', 'role', 'ecContribution',\n",
       "       'netEcContribution', 'totalCost', 'endOfParticipation', 'active'],\n",
       "      dtype='object')"
      ]
     },
     "execution_count": 12,
     "metadata": {},
     "output_type": "execute_result"
    }
   ],
   "source": [
    "df1.columns"
   ]
  },
  {
   "cell_type": "code",
   "execution_count": null,
   "id": "f68fc123-a794-4fe0-aa46-772d1525652b",
   "metadata": {},
   "outputs": [
    {
     "ename": "TypeError",
     "evalue": "unsupported operand type(s) for -: 'str' and 'str'",
     "output_type": "error",
     "traceback": [
      "\u001b[31m---------------------------------------------------------------------------\u001b[39m",
      "\u001b[31mTypeError\u001b[39m                                 Traceback (most recent call last)",
      "\u001b[36mFile \u001b[39m\u001b[32mc:\\Users\\migue\\anaconda3\\envs\\Prueba\\Lib\\site-packages\\pandas\\core\\ops\\array_ops.py:218\u001b[39m, in \u001b[36m_na_arithmetic_op\u001b[39m\u001b[34m(left, right, op, is_cmp)\u001b[39m\n\u001b[32m    217\u001b[39m \u001b[38;5;28;01mtry\u001b[39;00m:\n\u001b[32m--> \u001b[39m\u001b[32m218\u001b[39m     result = \u001b[43mfunc\u001b[49m\u001b[43m(\u001b[49m\u001b[43mleft\u001b[49m\u001b[43m,\u001b[49m\u001b[43m \u001b[49m\u001b[43mright\u001b[49m\u001b[43m)\u001b[49m\n\u001b[32m    219\u001b[39m \u001b[38;5;28;01mexcept\u001b[39;00m \u001b[38;5;167;01mTypeError\u001b[39;00m:\n",
      "\u001b[36mFile \u001b[39m\u001b[32mc:\\Users\\migue\\anaconda3\\envs\\Prueba\\Lib\\site-packages\\pandas\\core\\computation\\expressions.py:242\u001b[39m, in \u001b[36mevaluate\u001b[39m\u001b[34m(op, a, b, use_numexpr)\u001b[39m\n\u001b[32m    240\u001b[39m     \u001b[38;5;28;01mif\u001b[39;00m use_numexpr:\n\u001b[32m    241\u001b[39m         \u001b[38;5;66;03m# error: \"None\" not callable\u001b[39;00m\n\u001b[32m--> \u001b[39m\u001b[32m242\u001b[39m         \u001b[38;5;28;01mreturn\u001b[39;00m \u001b[43m_evaluate\u001b[49m\u001b[43m(\u001b[49m\u001b[43mop\u001b[49m\u001b[43m,\u001b[49m\u001b[43m \u001b[49m\u001b[43mop_str\u001b[49m\u001b[43m,\u001b[49m\u001b[43m \u001b[49m\u001b[43ma\u001b[49m\u001b[43m,\u001b[49m\u001b[43m \u001b[49m\u001b[43mb\u001b[49m\u001b[43m)\u001b[49m  \u001b[38;5;66;03m# type: ignore[misc]\u001b[39;00m\n\u001b[32m    243\u001b[39m \u001b[38;5;28;01mreturn\u001b[39;00m _evaluate_standard(op, op_str, a, b)\n",
      "\u001b[36mFile \u001b[39m\u001b[32mc:\\Users\\migue\\anaconda3\\envs\\Prueba\\Lib\\site-packages\\pandas\\core\\computation\\expressions.py:73\u001b[39m, in \u001b[36m_evaluate_standard\u001b[39m\u001b[34m(op, op_str, a, b)\u001b[39m\n\u001b[32m     72\u001b[39m     _store_test_result(\u001b[38;5;28;01mFalse\u001b[39;00m)\n\u001b[32m---> \u001b[39m\u001b[32m73\u001b[39m \u001b[38;5;28;01mreturn\u001b[39;00m op(a, b)\n",
      "\u001b[31mTypeError\u001b[39m: unsupported operand type(s) for -: 'str' and 'str'",
      "\nDuring handling of the above exception, another exception occurred:\n",
      "\u001b[31mTypeError\u001b[39m                                 Traceback (most recent call last)",
      "\u001b[36mCell\u001b[39m\u001b[36m \u001b[39m\u001b[32mIn[13]\u001b[39m\u001b[32m, line 1\u001b[39m\n\u001b[32m----> \u001b[39m\u001b[32m1\u001b[39m df[\u001b[33m'\u001b[39m\u001b[33mdelay_d\u001b[39m\u001b[33m'\u001b[39m] = \u001b[43mdf\u001b[49m\u001b[43m[\u001b[49m\u001b[33;43m'\u001b[39;49m\u001b[33;43mstartDate\u001b[39;49m\u001b[33;43m'\u001b[39;49m\u001b[43m]\u001b[49m\u001b[43m \u001b[49m\u001b[43m-\u001b[49m\u001b[43m \u001b[49m\u001b[43mdf\u001b[49m\u001b[43m[\u001b[49m\u001b[33;43m'\u001b[39;49m\u001b[33;43mecSignatureDate\u001b[39;49m\u001b[33;43m'\u001b[39;49m\u001b[43m]\u001b[49m\n",
      "\u001b[36mFile \u001b[39m\u001b[32mc:\\Users\\migue\\anaconda3\\envs\\Prueba\\Lib\\site-packages\\pandas\\core\\ops\\common.py:76\u001b[39m, in \u001b[36m_unpack_zerodim_and_defer.<locals>.new_method\u001b[39m\u001b[34m(self, other)\u001b[39m\n\u001b[32m     72\u001b[39m             \u001b[38;5;28;01mreturn\u001b[39;00m \u001b[38;5;28mNotImplemented\u001b[39m\n\u001b[32m     74\u001b[39m other = item_from_zerodim(other)\n\u001b[32m---> \u001b[39m\u001b[32m76\u001b[39m \u001b[38;5;28;01mreturn\u001b[39;00m \u001b[43mmethod\u001b[49m\u001b[43m(\u001b[49m\u001b[38;5;28;43mself\u001b[39;49m\u001b[43m,\u001b[49m\u001b[43m \u001b[49m\u001b[43mother\u001b[49m\u001b[43m)\u001b[49m\n",
      "\u001b[36mFile \u001b[39m\u001b[32mc:\\Users\\migue\\anaconda3\\envs\\Prueba\\Lib\\site-packages\\pandas\\core\\arraylike.py:194\u001b[39m, in \u001b[36mOpsMixin.__sub__\u001b[39m\u001b[34m(self, other)\u001b[39m\n\u001b[32m    192\u001b[39m \u001b[38;5;129m@unpack_zerodim_and_defer\u001b[39m(\u001b[33m\"\u001b[39m\u001b[33m__sub__\u001b[39m\u001b[33m\"\u001b[39m)\n\u001b[32m    193\u001b[39m \u001b[38;5;28;01mdef\u001b[39;00m\u001b[38;5;250m \u001b[39m\u001b[34m__sub__\u001b[39m(\u001b[38;5;28mself\u001b[39m, other):\n\u001b[32m--> \u001b[39m\u001b[32m194\u001b[39m     \u001b[38;5;28;01mreturn\u001b[39;00m \u001b[38;5;28;43mself\u001b[39;49m\u001b[43m.\u001b[49m\u001b[43m_arith_method\u001b[49m\u001b[43m(\u001b[49m\u001b[43mother\u001b[49m\u001b[43m,\u001b[49m\u001b[43m \u001b[49m\u001b[43moperator\u001b[49m\u001b[43m.\u001b[49m\u001b[43msub\u001b[49m\u001b[43m)\u001b[49m\n",
      "\u001b[36mFile \u001b[39m\u001b[32mc:\\Users\\migue\\anaconda3\\envs\\Prueba\\Lib\\site-packages\\pandas\\core\\series.py:6135\u001b[39m, in \u001b[36mSeries._arith_method\u001b[39m\u001b[34m(self, other, op)\u001b[39m\n\u001b[32m   6133\u001b[39m \u001b[38;5;28;01mdef\u001b[39;00m\u001b[38;5;250m \u001b[39m\u001b[34m_arith_method\u001b[39m(\u001b[38;5;28mself\u001b[39m, other, op):\n\u001b[32m   6134\u001b[39m     \u001b[38;5;28mself\u001b[39m, other = \u001b[38;5;28mself\u001b[39m._align_for_op(other)\n\u001b[32m-> \u001b[39m\u001b[32m6135\u001b[39m     \u001b[38;5;28;01mreturn\u001b[39;00m \u001b[43mbase\u001b[49m\u001b[43m.\u001b[49m\u001b[43mIndexOpsMixin\u001b[49m\u001b[43m.\u001b[49m\u001b[43m_arith_method\u001b[49m\u001b[43m(\u001b[49m\u001b[38;5;28;43mself\u001b[39;49m\u001b[43m,\u001b[49m\u001b[43m \u001b[49m\u001b[43mother\u001b[49m\u001b[43m,\u001b[49m\u001b[43m \u001b[49m\u001b[43mop\u001b[49m\u001b[43m)\u001b[49m\n",
      "\u001b[36mFile \u001b[39m\u001b[32mc:\\Users\\migue\\anaconda3\\envs\\Prueba\\Lib\\site-packages\\pandas\\core\\base.py:1382\u001b[39m, in \u001b[36mIndexOpsMixin._arith_method\u001b[39m\u001b[34m(self, other, op)\u001b[39m\n\u001b[32m   1379\u001b[39m     rvalues = np.arange(rvalues.start, rvalues.stop, rvalues.step)\n\u001b[32m   1381\u001b[39m \u001b[38;5;28;01mwith\u001b[39;00m np.errstate(\u001b[38;5;28mall\u001b[39m=\u001b[33m\"\u001b[39m\u001b[33mignore\u001b[39m\u001b[33m\"\u001b[39m):\n\u001b[32m-> \u001b[39m\u001b[32m1382\u001b[39m     result = \u001b[43mops\u001b[49m\u001b[43m.\u001b[49m\u001b[43marithmetic_op\u001b[49m\u001b[43m(\u001b[49m\u001b[43mlvalues\u001b[49m\u001b[43m,\u001b[49m\u001b[43m \u001b[49m\u001b[43mrvalues\u001b[49m\u001b[43m,\u001b[49m\u001b[43m \u001b[49m\u001b[43mop\u001b[49m\u001b[43m)\u001b[49m\n\u001b[32m   1384\u001b[39m \u001b[38;5;28;01mreturn\u001b[39;00m \u001b[38;5;28mself\u001b[39m._construct_result(result, name=res_name)\n",
      "\u001b[36mFile \u001b[39m\u001b[32mc:\\Users\\migue\\anaconda3\\envs\\Prueba\\Lib\\site-packages\\pandas\\core\\ops\\array_ops.py:283\u001b[39m, in \u001b[36marithmetic_op\u001b[39m\u001b[34m(left, right, op)\u001b[39m\n\u001b[32m    279\u001b[39m     _bool_arith_check(op, left, right)  \u001b[38;5;66;03m# type: ignore[arg-type]\u001b[39;00m\n\u001b[32m    281\u001b[39m     \u001b[38;5;66;03m# error: Argument 1 to \"_na_arithmetic_op\" has incompatible type\u001b[39;00m\n\u001b[32m    282\u001b[39m     \u001b[38;5;66;03m# \"Union[ExtensionArray, ndarray[Any, Any]]\"; expected \"ndarray[Any, Any]\"\u001b[39;00m\n\u001b[32m--> \u001b[39m\u001b[32m283\u001b[39m     res_values = \u001b[43m_na_arithmetic_op\u001b[49m\u001b[43m(\u001b[49m\u001b[43mleft\u001b[49m\u001b[43m,\u001b[49m\u001b[43m \u001b[49m\u001b[43mright\u001b[49m\u001b[43m,\u001b[49m\u001b[43m \u001b[49m\u001b[43mop\u001b[49m\u001b[43m)\u001b[49m  \u001b[38;5;66;03m# type: ignore[arg-type]\u001b[39;00m\n\u001b[32m    285\u001b[39m \u001b[38;5;28;01mreturn\u001b[39;00m res_values\n",
      "\u001b[36mFile \u001b[39m\u001b[32mc:\\Users\\migue\\anaconda3\\envs\\Prueba\\Lib\\site-packages\\pandas\\core\\ops\\array_ops.py:227\u001b[39m, in \u001b[36m_na_arithmetic_op\u001b[39m\u001b[34m(left, right, op, is_cmp)\u001b[39m\n\u001b[32m    219\u001b[39m \u001b[38;5;28;01mexcept\u001b[39;00m \u001b[38;5;167;01mTypeError\u001b[39;00m:\n\u001b[32m    220\u001b[39m     \u001b[38;5;28;01mif\u001b[39;00m \u001b[38;5;129;01mnot\u001b[39;00m is_cmp \u001b[38;5;129;01mand\u001b[39;00m (\n\u001b[32m    221\u001b[39m         left.dtype == \u001b[38;5;28mobject\u001b[39m \u001b[38;5;129;01mor\u001b[39;00m \u001b[38;5;28mgetattr\u001b[39m(right, \u001b[33m\"\u001b[39m\u001b[33mdtype\u001b[39m\u001b[33m\"\u001b[39m, \u001b[38;5;28;01mNone\u001b[39;00m) == \u001b[38;5;28mobject\u001b[39m\n\u001b[32m    222\u001b[39m     ):\n\u001b[32m   (...)\u001b[39m\u001b[32m    225\u001b[39m         \u001b[38;5;66;03m# Don't do this for comparisons, as that will handle complex numbers\u001b[39;00m\n\u001b[32m    226\u001b[39m         \u001b[38;5;66;03m#  incorrectly, see GH#32047\u001b[39;00m\n\u001b[32m--> \u001b[39m\u001b[32m227\u001b[39m         result = \u001b[43m_masked_arith_op\u001b[49m\u001b[43m(\u001b[49m\u001b[43mleft\u001b[49m\u001b[43m,\u001b[49m\u001b[43m \u001b[49m\u001b[43mright\u001b[49m\u001b[43m,\u001b[49m\u001b[43m \u001b[49m\u001b[43mop\u001b[49m\u001b[43m)\u001b[49m\n\u001b[32m    228\u001b[39m     \u001b[38;5;28;01melse\u001b[39;00m:\n\u001b[32m    229\u001b[39m         \u001b[38;5;28;01mraise\u001b[39;00m\n",
      "\u001b[36mFile \u001b[39m\u001b[32mc:\\Users\\migue\\anaconda3\\envs\\Prueba\\Lib\\site-packages\\pandas\\core\\ops\\array_ops.py:163\u001b[39m, in \u001b[36m_masked_arith_op\u001b[39m\u001b[34m(x, y, op)\u001b[39m\n\u001b[32m    161\u001b[39m     \u001b[38;5;66;03m# See GH#5284, GH#5035, GH#19448 for historical reference\u001b[39;00m\n\u001b[32m    162\u001b[39m     \u001b[38;5;28;01mif\u001b[39;00m mask.any():\n\u001b[32m--> \u001b[39m\u001b[32m163\u001b[39m         result[mask] = \u001b[43mop\u001b[49m\u001b[43m(\u001b[49m\u001b[43mxrav\u001b[49m\u001b[43m[\u001b[49m\u001b[43mmask\u001b[49m\u001b[43m]\u001b[49m\u001b[43m,\u001b[49m\u001b[43m \u001b[49m\u001b[43myrav\u001b[49m\u001b[43m[\u001b[49m\u001b[43mmask\u001b[49m\u001b[43m]\u001b[49m\u001b[43m)\u001b[49m\n\u001b[32m    165\u001b[39m \u001b[38;5;28;01melse\u001b[39;00m:\n\u001b[32m    166\u001b[39m     \u001b[38;5;28;01mif\u001b[39;00m \u001b[38;5;129;01mnot\u001b[39;00m is_scalar(y):\n",
      "\u001b[31mTypeError\u001b[39m: unsupported operand type(s) for -: 'str' and 'str'"
     ]
    }
   ],
   "source": [
    "df['delay_d'] = df['startDate'] - df['ecSignatureDate']"
   ]
  },
  {
   "cell_type": "code",
   "execution_count": null,
   "id": "190ae75b-ffab-46f6-bbd5-2b1beaef15e8",
   "metadata": {},
   "outputs": [],
   "source": [
    "df['startDate1'] = pd.to_datetime(df['startDate'],format=\"%Y-%m-%d\")"
   ]
  },
  {
   "cell_type": "code",
   "execution_count": null,
   "id": "8dbb332c-db60-421a-a19b-7f4b5cd2ee45",
   "metadata": {},
   "outputs": [],
   "source": [
    "df['ecSignatureDate1'] = pd.to_datetime(df['ecSignatureDate'],format=\"%Y-%m-%d\")"
   ]
  },
  {
   "cell_type": "code",
   "execution_count": null,
   "id": "919fcb74-f41d-463c-8b98-d45357c9af1c",
   "metadata": {},
   "outputs": [],
   "source": [
    "df['delay_d'] = df['startDate1'] - df['ecSignatureDate1']"
   ]
  },
  {
   "cell_type": "code",
   "execution_count": null,
   "id": "06cfede5-2fea-49b1-a555-908bbe20bb47",
   "metadata": {},
   "outputs": [
    {
     "data": {
      "text/plain": [
       "0         54 days\n",
       "1         68 days\n",
       "2         27 days\n",
       "3        -14 days\n",
       "4         26 days\n",
       "           ...   \n",
       "15858   -159 days\n",
       "15859     53 days\n",
       "15860   -134 days\n",
       "15861    -74 days\n",
       "15862     88 days\n",
       "Name: delay_d, Length: 15863, dtype: timedelta64[ns]"
      ]
     },
     "execution_count": 17,
     "metadata": {},
     "output_type": "execute_result"
    }
   ],
   "source": [
    "df['delay_d']"
   ]
  },
  {
   "cell_type": "code",
   "execution_count": null,
   "id": "d36fd81e-533f-458e-9fa0-7f5212ef19f7",
   "metadata": {},
   "outputs": [],
   "source": [
    "import numpy as np"
   ]
  },
  {
   "cell_type": "code",
   "execution_count": null,
   "id": "ab385867-75f8-4e15-9f3b-5a5db705432a",
   "metadata": {},
   "outputs": [],
   "source": [
    "df['delay_d'] = np.where(df['startDate1'] < df['ecSignatureDate1'],0,df['startDate1'] - df['ecSignatureDate1'])"
   ]
  },
  {
   "cell_type": "code",
   "execution_count": null,
   "id": "868e8874-007a-4959-a566-f591cd79683a",
   "metadata": {},
   "outputs": [
    {
     "data": {
      "text/plain": [
       "0       54 days\n",
       "1       68 days\n",
       "2       27 days\n",
       "3        0 days\n",
       "4       26 days\n",
       "          ...  \n",
       "15858    0 days\n",
       "15859   53 days\n",
       "15860    0 days\n",
       "15861    0 days\n",
       "15862   88 days\n",
       "Name: delay_d, Length: 15863, dtype: timedelta64[ns]"
      ]
     },
     "execution_count": 20,
     "metadata": {},
     "output_type": "execute_result"
    }
   ],
   "source": [
    "df['delay_d']"
   ]
  },
  {
   "cell_type": "code",
   "execution_count": null,
   "id": "3d02cc5c-9813-4945-90bb-5622f25c596d",
   "metadata": {},
   "outputs": [],
   "source": [
    "df['delay_m'] = df['delay_d']/30"
   ]
  },
  {
   "cell_type": "code",
   "execution_count": null,
   "id": "4df32139-e55f-4e12-8bfd-b0a4b0c2441c",
   "metadata": {},
   "outputs": [
    {
     "data": {
      "text/plain": [
       "0       1 days 19:12:00\n",
       "1       2 days 06:24:00\n",
       "2       0 days 21:36:00\n",
       "3       0 days 00:00:00\n",
       "4       0 days 20:48:00\n",
       "              ...      \n",
       "15858   0 days 00:00:00\n",
       "15859   1 days 18:24:00\n",
       "15860   0 days 00:00:00\n",
       "15861   0 days 00:00:00\n",
       "15862   2 days 22:24:00\n",
       "Name: delay_m, Length: 15863, dtype: timedelta64[ns]"
      ]
     },
     "execution_count": 22,
     "metadata": {},
     "output_type": "execute_result"
    }
   ],
   "source": [
    "df['delay_m']"
   ]
  },
  {
   "cell_type": "code",
   "execution_count": null,
   "id": "af3863f9-3fc5-4d34-8143-78850659abaa",
   "metadata": {},
   "outputs": [
    {
     "data": {
      "text/plain": [
       "dtype('<m8[ns]')"
      ]
     },
     "execution_count": 23,
     "metadata": {},
     "output_type": "execute_result"
    }
   ],
   "source": [
    "df['delay_d'].dtype"
   ]
  },
  {
   "cell_type": "code",
   "execution_count": null,
   "id": "d2833636-777f-46b6-8f74-2b764019628b",
   "metadata": {},
   "outputs": [],
   "source": [
    "df['delay_m'] = df['delay_d']/30.44"
   ]
  },
  {
   "cell_type": "code",
   "execution_count": null,
   "id": "97e8325e-e4e2-456a-a71e-cecc0095db6e",
   "metadata": {},
   "outputs": [
    {
     "data": {
      "text/plain": [
       "0       1 days 18:34:32.010512483\n",
       "1       2 days 05:36:49.198423127\n",
       "2       0 days 21:17:16.005256241\n",
       "3                 0 days 00:00:00\n",
       "4       0 days 20:29:57.634691195\n",
       "                   ...           \n",
       "15858             0 days 00:00:00\n",
       "15859   1 days 17:47:13.639947437\n",
       "15860             0 days 00:00:00\n",
       "15861             0 days 00:00:00\n",
       "15862   2 days 21:22:56.609724047\n",
       "Name: delay_m, Length: 15863, dtype: timedelta64[ns]"
      ]
     },
     "execution_count": 25,
     "metadata": {},
     "output_type": "execute_result"
    }
   ],
   "source": [
    "df['delay_m']"
   ]
  },
  {
   "cell_type": "code",
   "execution_count": null,
   "id": "06d8829b-2163-4f10-913d-5935eaa05b91",
   "metadata": {},
   "outputs": [
    {
     "data": {
      "text/plain": [
       "0       54 days\n",
       "1       68 days\n",
       "2       27 days\n",
       "3        0 days\n",
       "4       26 days\n",
       "          ...  \n",
       "15858    0 days\n",
       "15859   53 days\n",
       "15860    0 days\n",
       "15861    0 days\n",
       "15862   88 days\n",
       "Name: delay_d, Length: 15863, dtype: timedelta64[ns]"
      ]
     },
     "execution_count": 26,
     "metadata": {},
     "output_type": "execute_result"
    }
   ],
   "source": [
    "df['delay_d']"
   ]
  }
 ],
 "metadata": {
  "kernelspec": {
   "display_name": "Prueba",
   "language": "python",
   "name": "python3"
  },
  "language_info": {
   "codemirror_mode": {
    "name": "ipython",
    "version": 3
   },
   "file_extension": ".py",
   "mimetype": "text/x-python",
   "name": "python",
   "nbconvert_exporter": "python",
   "pygments_lexer": "ipython3",
   "version": "3.11.11"
  }
 },
 "nbformat": 4,
 "nbformat_minor": 5
}
