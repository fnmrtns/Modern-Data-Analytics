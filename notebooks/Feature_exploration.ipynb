{
 "cells": [
  {
   "cell_type": "code",
   "execution_count": 2,
   "id": "837419c7",
   "metadata": {},
   "outputs": [],
   "source": [
    "import pandas as pd\n",
    "import numpy as np\n",
    "import os\n",
    "from datetime import datetime\n",
    "import sys\n",
    "\n",
    "# Add the project root to sys.path\n",
    "project_root = os.path.abspath(\"..\")  # one level up from 'notebooks'\n",
    "sys.path.append(project_root)\n"
   ]
  },
  {
   "cell_type": "markdown",
   "id": "67a8638c",
   "metadata": {},
   "source": [
    "Feature parent programme"
   ]
  },
  {
   "cell_type": "code",
   "execution_count": null,
   "id": "fd59f66f",
   "metadata": {},
   "outputs": [
    {
     "name": "stdout",
     "output_type": "stream",
     "text": [
      "Unique values in 'parentProgramme':\n",
      "HORIZON.3.2\n",
      "HORIZON.3\n",
      "HORIZON.1.3\n",
      "HORIZON.1\n",
      "HORIZON.3.1\n",
      "HORIZON.2.1\n",
      "HORIZON.2.2\n",
      "HORIZON.2\n",
      "HORIZON.2.4\n",
      "HORIZON.2.3\n",
      "HORIZON.2.6\n",
      "HORIZON.2.5\n",
      "HORIZON.4.2\n",
      "HORIZON.1.2\n",
      "HORIZON.4\n",
      "\n",
      "HORIZON.1.1\n",
      "EURATOM2027\n",
      "HORIZON\n",
      "EURATOM.1.1\n",
      "HORIZON.4.1\n",
      "EURATOM.1.2\n",
      "EURATOM.1.3\n",
      "EURATOM.1\n",
      "HORIZON.2.7\n",
      "EURATOM-1\n",
      "EURATOM.1.4\n"
     ]
    }
   ],
   "source": [
    "\n",
    "# Load the JSON file\n",
    "df = pd.read_json(\"../Data/programme.json\")\n",
    "\n",
    "# Display unique values in the 'parentProgramme' column\n",
    "unique_values = df[\"parentProgramme\"].unique()\n",
    "\n",
    "# Print results\n",
    "print(\"Unique values in 'parentProgramme':\")\n",
    "for value in unique_values:\n",
    "    print(value)\n"
   ]
  },
  {
   "cell_type": "code",
   "execution_count": 6,
   "id": "dd52239c",
   "metadata": {},
   "outputs": [
    {
     "name": "stdout",
     "output_type": "stream",
     "text": [
      "Unique values in 'legalBasis':\n",
      "HORIZON.3.1\n",
      "HORIZON.2.1\n",
      "HORIZON.2.6\n",
      "HORIZON.2.3\n",
      "HORIZON.3.2\n",
      "HORIZON.2.4\n",
      "HORIZON.4.1\n",
      "HORIZON.1.3\n",
      "HORIZON.2.2\n",
      "HORIZON.2.5\n",
      "EURATOM2027\n",
      "HORIZON.1.2\n",
      "HORIZON.4.2\n",
      "HORIZON.1.1\n",
      "HORIZON.3.3\n"
     ]
    }
   ],
   "source": [
    "#Unique values in legal basis\n",
    "\n",
    "# Load the JSON file\n",
    "df = pd.read_json(\"../Data/project.json\")\n",
    "\n",
    "# Display unique values in the 'parentProgramme' column\n",
    "unique_values = df[\"legalBasis\"].unique()\n",
    "\n",
    "# Print results\n",
    "print(\"Unique values in 'legalBasis':\")\n",
    "for value in unique_values:\n",
    "    print(value)\n"
   ]
  },
  {
   "cell_type": "markdown",
   "id": "bc991696",
   "metadata": {},
   "source": [
    "Creating base version of selected_features"
   ]
  },
  {
   "cell_type": "code",
   "execution_count": null,
   "id": "a78b2ae1",
   "metadata": {},
   "outputs": [
    {
     "name": "stdout",
     "output_type": "stream",
     "text": [
      "Selected features saved to ../Data/selected_features.json\n"
     ]
    }
   ],
   "source": [
    "# Load project data\n",
    "df = pd.read_json(\"../Data/project.json\")\n",
    "\n",
    "# Convert date columns to datetime\n",
    "df[\"startDate\"] = pd.to_datetime(df[\"startDate\"], errors=\"coerce\")\n",
    "df[\"endDate\"] = pd.to_datetime(df[\"endDate\"], errors=\"coerce\")\n",
    "df[\"ecSignatureDate\"] = pd.to_datetime(df[\"ecSignatureDate\"], errors=\"coerce\")\n",
    "\n",
    "# Compute derived features\n",
    "df[\"startupDelay\"] = (df[\"startDate\"] - df[\"ecSignatureDate\"]).dt.days\n",
    "df[\"duration\"] = (df[\"endDate\"] - df[\"startDate\"]).dt.days\n",
    "df[\"totalCostzero\"] = df[\"totalCost\"].fillna(0).eq(0).astype(int)\n",
    "df[\"contRatio\"] = df.apply(\n",
    "    lambda row: row[\"ecMaxContribution\"] / row[\"totalCost\"]\n",
    "    if pd.notnull(row[\"ecMaxContribution\"]) and pd.notnull(row[\"totalCost\"]) and row[\"totalCost\"] != 0\n",
    "    else None,\n",
    "    axis=1\n",
    ")\n",
    "\n",
    "# Legal basis to pillar mapping\n",
    "mapping = {\n",
    "    \"HORIZON.1.1\": \"Pillar 1 - European Research Council (ERC)\",\n",
    "    \"HORIZON.1.2\": \"Pillar 1 - Marie Sklodowska-Curie Actions (MSCA)\",\n",
    "    \"HORIZON.1.3\": \"Pillar 1 - Research infrastructures\",\n",
    "    \"HORIZON.2.1\": \"Pillar 2 - Health\",\n",
    "    \"HORIZON.2.2\": \"Pillar 2 - Culture, creativity and inclusive society\",\n",
    "    \"HORIZON.2.3\": \"Pillar 2 - Civil Security for Society\",\n",
    "    \"HORIZON.2.4\": \"Pillar 2 - Digital, Industry and Space\",\n",
    "    \"HORIZON.2.5\": \"Pillar 2 - Climate, Energy and Mobility\",\n",
    "    \"HORIZON.2.6\": \"Pillar 2 - Food, Bioeconomy Natural Resources, Agriculture and Environment\",\n",
    "    \"HORIZON.3.1\": \"Pillar 3 - The European Innovation Council (EIC)\",\n",
    "    \"HORIZON.3.2\": \"Pillar 3 - European innovation ecosystems\",\n",
    "    \"HORIZON.3.3\": \"Pillar 3 - Cross-cutting call topics\",\n",
    "    \"EURATOM2027\": \"EURATOM2027\",\n",
    "    \"EURATOM.1.1\": \"Improve and support nuclear safety, security, safeguards, radiation protection, safe spent fuel and radioactive waste management and decommissioning, including the safe and secure use of nuclear power and of non-power applications of ionizing radiation\",\n",
    "    \"EURATOM.1.2\": \"Maintain and further develop expertise and competence in the nuclear field within the Community\",\n",
    "    \"EURATOM.1.3\": \"Foster the development of fusion energy and contribute to the implementation of the European fusion roadmap\",\n",
    "}\n",
    "\n",
    "df[\"pillar\"] = df[\"legalBasis\"].map(mapping)\n",
    "\n",
    "# Select relevant columns\n",
    "selected = df[[\n",
    "    \"id\", \"startupDelay\", \"totalCost\", \"totalCostzero\",\n",
    "    \"ecMaxContribution\", \"duration\", \"contRatio\", \"pillar\"\n",
    "]]\n",
    "\n",
    "# Drop rows where startupDelay is missing (optional, depending on use case)\n",
    "selected = selected.dropna(subset=[\"startupDelay\"])\n",
    "\n",
    "# Convert to list of dicts and save as JSON\n",
    "output_path = \"../Data/selected_features.json\"\n",
    "selected.to_json(output_path, orient=\"records\", indent=2, date_format=\"iso\")\n",
    "\n",
    "print(f\"Selected features saved to {output_path}\")"
   ]
  },
  {
   "cell_type": "markdown",
   "id": "3e4c9e90",
   "metadata": {},
   "source": [
    "Enriching selected_features with features from organization.json"
   ]
  },
  {
   "cell_type": "code",
   "execution_count": 3,
   "id": "423f1ba3",
   "metadata": {},
   "outputs": [
    {
     "name": "stdout",
     "output_type": "stream",
     "text": [
      "Enriched selected_features.json saved to ../Data/selected_features.json\n"
     ]
    }
   ],
   "source": [
    "# Load files\n",
    "selected_df = pd.read_json(\"../Data/selected_features.json\")\n",
    "org_df = pd.read_json(\"../Data/organization.json\")\n",
    "\n",
    "# Ensure 'id' and 'projectID' are treated consistently\n",
    "org_df[\"projectID\"] = org_df[\"projectID\"].astype(str)\n",
    "selected_df[\"id\"] = selected_df[\"id\"].astype(str)\n",
    "\n",
    "# --- Feature 1: countryCoor ---\n",
    "coor_map = org_df[org_df[\"role\"] == \"coordinator\"][[\"projectID\", \"country\"]]\n",
    "coor_map = coor_map.drop_duplicates(\"projectID\").set_index(\"projectID\")[\"country\"]\n",
    "\n",
    "# --- Feature 2: numberOrg ---\n",
    "number_org = org_df.groupby(\"projectID\").size()\n",
    "\n",
    "# --- Feature 3: numberCountry ---\n",
    "number_country = org_df.groupby(\"projectID\")[\"country\"].nunique()\n",
    "\n",
    "# Merge into selected_df\n",
    "selected_df[\"countryCoor\"] = selected_df[\"id\"].map(coor_map)\n",
    "selected_df[\"numberOrg\"] = selected_df[\"id\"].map(number_org).fillna(0).astype(int)\n",
    "selected_df[\"numberCountry\"] = selected_df[\"id\"].map(number_country).fillna(0).astype(int)\n",
    "\n",
    "# Save the enriched file\n",
    "output_path = \"../Data/selected_features.json\"\n",
    "selected_df.to_json(output_path, orient=\"records\", indent=2)\n",
    "\n",
    "print(f\"Enriched selected_features.json saved to {output_path}\")"
   ]
  },
  {
   "cell_type": "markdown",
   "id": "a8b6d9bc",
   "metadata": {},
   "source": [
    "Dealing with negative startup delays and totalCost being zero"
   ]
  },
  {
   "cell_type": "code",
   "execution_count": 4,
   "id": "802a0803",
   "metadata": {},
   "outputs": [
    {
     "name": "stdout",
     "output_type": "stream",
     "text": [
      "Number of entries in selected_features.json: 16914\n"
     ]
    }
   ],
   "source": [
    "# Load the JSON file\n",
    "df = pd.read_json(\"../Data/selected_features.json\")\n",
    "\n",
    "# Count the number of entries (rows)\n",
    "num_entries = len(df)\n",
    "\n",
    "print(f\"Number of entries in selected_features.json: {num_entries}\")"
   ]
  },
  {
   "cell_type": "code",
   "execution_count": 5,
   "id": "e7af3f82",
   "metadata": {},
   "outputs": [
    {
     "name": "stdout",
     "output_type": "stream",
     "text": [
      "Removed entries with negative startupDelay. Remaining entries: 16113\n"
     ]
    }
   ],
   "source": [
    "\n",
    "# Load the JSON file\n",
    "df = pd.read_json(\"../Data/selected_features.json\")\n",
    "\n",
    "# Filter out rows with negative startupDelay\n",
    "df_cleaned = df[df[\"startupDelay\"] >= 0]\n",
    "\n",
    "# Save the cleaned dataset back to the same file\n",
    "df_cleaned.to_json(\"../Data/selected_features.json\", orient=\"records\", indent=2)\n",
    "\n",
    "print(f\"Removed entries with negative startupDelay. Remaining entries: {len(df_cleaned)}\")"
   ]
  },
  {
   "cell_type": "markdown",
   "id": "d94720e0",
   "metadata": {},
   "source": [
    "Dealing with categorical variables with multiple levels - exploring options"
   ]
  },
  {
   "cell_type": "code",
   "execution_count": 6,
   "id": "7583d33e",
   "metadata": {},
   "outputs": [
    {
     "name": "stdout",
     "output_type": "stream",
     "text": [
      "Value counts for 'pillar':\n",
      "pillar\n",
      "Pillar 1 - Marie Skłodowska-Curie Actions (MSCA)                              5858\n",
      "Pillar 1 - European Research Council (ERC)                                    4562\n",
      "Pillar 2 - Climate, Energy and Mobility                                       1085\n",
      "Pillar 2 - Digital, Industry and Space                                        1013\n",
      "Pillar 3 - The European Innovation Council (EIC)                               838\n",
      "Pillar 2 - Food, Bioeconomy Natural Resources, Agriculture and Environment     678\n",
      "None                                                                           652\n",
      "Pillar 2 - Health                                                              493\n",
      "Pillar 2 - Culture, creativity and inclusive society                           316\n",
      "Pillar 3 - European innovation ecosystems                                      264\n",
      "Pillar 1 - Research infrastructures                                            158\n",
      "Pillar 2 - Civil Security for Society                                          142\n",
      "EURATOM2027                                                                     54\n",
      "Name: count, dtype: int64\n",
      "\n",
      "\n",
      "Value counts for 'countryCoor':\n",
      "countryCoor\n",
      "DE      2178\n",
      "ES      2081\n",
      "FR      1705\n",
      "IT      1646\n",
      "NL      1297\n",
      "BE       906\n",
      "DK       685\n",
      "SE       602\n",
      "NO       546\n",
      "AT       542\n",
      "EL       529\n",
      "IE       445\n",
      "PT       439\n",
      "FI       407\n",
      "UK       405\n",
      "IL       369\n",
      "CZ       228\n",
      "PL       161\n",
      "SI       117\n",
      "TR       113\n",
      "CY       103\n",
      "EE        77\n",
      "LU        77\n",
      "HU        65\n",
      "RO        58\n",
      "RS        51\n",
      "LT        45\n",
      "HR        33\n",
      "SK        30\n",
      "CH        30\n",
      "MT        28\n",
      "LV        27\n",
      "BG        22\n",
      "IS        14\n",
      "UA        10\n",
      "None       9\n",
      "ZA         8\n",
      "TN         4\n",
      "AM         4\n",
      "BA         4\n",
      "AL         2\n",
      "NG         2\n",
      "GH         2\n",
      "ME         2\n",
      "GE         2\n",
      "AU         1\n",
      "MK         1\n",
      "FO         1\n",
      "Name: count, dtype: int64\n"
     ]
    }
   ],
   "source": [
    "\n",
    "\n",
    "# Load the data\n",
    "df = pd.read_json(\"../Data/selected_features.json\")\n",
    "\n",
    "# Frequency counts for 'pillar'\n",
    "print(\"Value counts for 'pillar':\")\n",
    "print(df[\"pillar\"].value_counts(dropna=False))\n",
    "print(\"\\n\")\n",
    "\n",
    "# Frequency counts for 'countryCoor'\n",
    "print(\"Value counts for 'countryCoor':\")\n",
    "print(df[\"countryCoor\"].value_counts(dropna=False))\n"
   ]
  },
  {
   "cell_type": "code",
   "execution_count": null,
   "id": "84d61f34",
   "metadata": {},
   "outputs": [],
   "source": [
    "#TotalCost being zero"
   ]
  },
  {
   "cell_type": "code",
   "execution_count": 7,
   "id": "df16c3a2",
   "metadata": {},
   "outputs": [
    {
     "name": "stdout",
     "output_type": "stream",
     "text": [
      "Number of entries with totalCost = 0: 7780\n"
     ]
    }
   ],
   "source": [
    "import pandas as pd\n",
    "\n",
    "# Load the dataset\n",
    "df = pd.read_json(\"../Data/selected_features.json\")\n",
    "\n",
    "# Count entries with totalCost == 0\n",
    "zero_total_cost_count = (df[\"totalCost\"] == 0).sum()\n",
    "\n",
    "print(f\"Number of entries with totalCost = 0: {zero_total_cost_count}\")"
   ]
  },
  {
   "cell_type": "markdown",
   "id": "5c99f888",
   "metadata": {},
   "source": [
    "Dropping numberCountry given strong correlation revealed during pre-processing"
   ]
  },
  {
   "cell_type": "code",
   "execution_count": 3,
   "id": "adcfd007",
   "metadata": {},
   "outputs": [
    {
     "name": "stdout",
     "output_type": "stream",
     "text": [
      "✅ Dropped 'numberCountry' column.\n",
      "✅ Updated file saved to ../Data/selected_features.json\n"
     ]
    }
   ],
   "source": [
    "df = pd.read_json(\"../Data/selected_features.json\")\n",
    "\n",
    "# Drop the 'numberCountry' column if it exists\n",
    "if \"numberCountry\" in df.columns:\n",
    "    df = df.drop(columns=[\"numberCountry\"])\n",
    "    print(\"✅ Dropped 'numberCountry' column.\")\n",
    "else:\n",
    "    print(\"ℹ️ Column 'numberCountry' not found — nothing to drop.\")\n",
    "\n",
    "# Save the updated dataset\n",
    "df.to_json(\"../Data/selected_features.json\", orient=\"records\", indent=2)\n",
    "print(\"✅ Updated file saved to ../Data/selected_features.json\")"
   ]
  }
 ],
 "metadata": {
  "kernelspec": {
   "display_name": ".venv",
   "language": "python",
   "name": "python3"
  },
  "language_info": {
   "codemirror_mode": {
    "name": "ipython",
    "version": 3
   },
   "file_extension": ".py",
   "mimetype": "text/x-python",
   "name": "python",
   "nbconvert_exporter": "python",
   "pygments_lexer": "ipython3",
   "version": "3.9.13"
  }
 },
 "nbformat": 4,
 "nbformat_minor": 5
}
