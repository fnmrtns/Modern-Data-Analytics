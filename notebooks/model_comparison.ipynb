{
 "cells": [
  {
   "cell_type": "code",
   "execution_count": null,
   "id": "f8f7244b",
   "metadata": {},
   "outputs": [],
   "source": [
    "import pandas as pd\n",
    "import numpy as np\n",
    "from features.preprocess import load_data  # Adjust if function name differs\n",
    "from utils.metrics import regression_metrics, quantile_coverage, print_metrics\n",
    "\n",
    "from models.catboost_model import train_catboost, train_catboost_quantiles, predict_interval as cat_predict_interval\n",
    "from models.lightgbm_model import train_lightgbm, train_lightgbm_quantiles, predict_interval as lgbm_predict_interval\n",
    "from models.random_forest import train_random_forest\n",
    "from models.linear_model import train_linear_regression\n",
    "from models.xgboost_model import train_xgboost"
   ]
  },
  {
   "cell_type": "code",
   "execution_count": null,
   "id": "947881b6",
   "metadata": {},
   "outputs": [],
   "source": [
    "X_train, X_test, y_train, y_test = load_data()"
   ]
  },
  {
   "cell_type": "code",
   "execution_count": null,
   "id": "d7dd53b6",
   "metadata": {},
   "outputs": [],
   "source": [
    "catboost_params = {\n",
    "    \"iterations\": 800,\n",
    "    \"learning_rate\": 0.03,\n",
    "    \"depth\": 6,\n",
    "    \"verbose\": 0,\n",
    "    \"random_seed\": 32\n",
    "}\n",
    "\n",
    "catboost_quantile_params = {\n",
    "    \"iterations\": 500,\n",
    "    \"learning_rate\": 0.03,\n",
    "    \"depth\": 6,\n",
    "    \"verbose\": 0,\n",
    "    \"random_seed\": 42\n",
    "}\n",
    "\n",
    "lgbm_params = {\n",
    "    \"n_estimators\": 500,\n",
    "    \"learning_rate\": 0.03,\n",
    "    \"num_leaves\": 31,\n",
    "    \"verbose\": -1\n",
    "}\n",
    "\n",
    "lgbm_quantile_params = {\n",
    "    \"n_estimators\": 500,\n",
    "    \"learning_rate\": 0.03,\n",
    "    \"num_leaves\": 31,\n",
    "    \"verbose\": -1\n",
    "}\n",
    "\n",
    "rf_params = {\"n_estimators\": 200, \"max_depth\": 6, \"random_state\": 42}\n",
    "linreg_params = {}  # scikit-learn LinearRegression has no meaningful hyperparameters\n",
    "xgb_params = {\"n_estimators\": 500, \"learning_rate\": 0.03, \"max_depth\": 6, \"verbosity\": 0, \"random_state\": 42}"
   ]
  },
  {
   "cell_type": "code",
   "execution_count": null,
   "id": "5caaa588",
   "metadata": {},
   "outputs": [],
   "source": [
    "cat_model = train_catboost(X_train, y_train, params=catboost_params)\n",
    "y_pred_cat = cat_model.predict(X_test)\n",
    "print_metrics(\"CatBoost Point\", regression_metrics(y_test, y_pred_cat))\n",
    "\n",
    "cat_low = train_catboost_quantiles(X_train, y_train, alpha=0.05, catboost_quantile_params=catboost_quantile_params)\n",
    "cat_med = train_catboost_quantiles(X_train, y_train, alpha=0.5, catboost_quantile_params=catboost_quantile_params)\n",
    "cat_high = train_catboost_quantiles(X_train, y_train, alpha=0.95, catboost_quantile_params=catboost_quantile_params)\n",
    "intervals_cat = cat_predict_interval(cat_low, cat_med, cat_high, X_test)\n",
    "print_metrics(\"CatBoost Interval\", quantile_coverage(y_test, intervals_cat))"
   ]
  },
  {
   "cell_type": "code",
   "execution_count": null,
   "id": "ea33c6cb",
   "metadata": {},
   "outputs": [],
   "source": [
    "lgbm_model = train_lightgbm(X_train, y_train, lgbm_params=lgbm_params)\n",
    "y_pred_lgbm = lgbm_model.predict(X_test)\n",
    "print_metrics(\"LightGBM Point\", regression_metrics(y_test, y_pred_lgbm))\n",
    "\n",
    "lgbm_low = train_lightgbm_quantiles(X_train, y_train, alpha=0.05, lgbm_quantile_params=lgbm_quantile_params)\n",
    "lgbm_med = train_lightgbm_quantiles(X_train, y_train, alpha=0.5, lgbm_quantile_params=lgbm_quantile_params)\n",
    "lgbm_high = train_lightgbm_quantiles(X_train, y_train, alpha=0.95, lgbm_quantile_params=lgbm_quantile_params)\n",
    "intervals_lgbm = lgbm_predict_interval(lgbm_low, lgbm_med, lgbm_high, X_test)\n",
    "print_metrics(\"LightGBM Interval\", quantile_coverage(y_test, intervals_lgbm))"
   ]
  },
  {
   "cell_type": "code",
   "execution_count": null,
   "id": "86d3e1a1",
   "metadata": {},
   "outputs": [],
   "source": [
    "rf_model = train_random_forest(X_train, y_train, rf_params=rf_params)\n",
    "y_pred_rf = rf_model.predict(X_test)\n",
    "print_metrics(\"Random Forest\", regression_metrics(y_test, y_pred_rf))"
   ]
  },
  {
   "cell_type": "code",
   "execution_count": null,
   "id": "38546952",
   "metadata": {},
   "outputs": [],
   "source": [
    "linreg_model = train_linear_regression(X_train, y_train, linreg_params=linreg_params)\n",
    "y_pred_lin = linreg_model.predict(X_test)\n",
    "print_metrics(\"Linear Regression\", regression_metrics(y_test, y_pred_lin))"
   ]
  },
  {
   "cell_type": "code",
   "execution_count": null,
   "id": "ee05815d",
   "metadata": {},
   "outputs": [],
   "source": [
    "xgb_model = train_xgboost(X_train, y_train, xgb_params=xgb_params)\n",
    "y_pred_xgb = xgb_model.predict(X_test)\n",
    "print_metrics(\"XGBoost\", regression_metrics(y_test, y_pred_xgb))"
   ]
  }
 ],
 "metadata": {},
 "nbformat": 4,
 "nbformat_minor": 5
}
