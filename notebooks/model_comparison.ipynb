{
 "cells": [
  {
   "cell_type": "code",
   "execution_count": null,
   "id": "dfe1e61e",
   "metadata": {},
   "outputs": [],
   "source": [
    "import sys, os\n",
    "project_root = os.path.abspath(os.path.join(os.getcwd(), \"..\"))\n",
    "sys.path.insert(0, project_root)"
   ]
  },
  {
   "cell_type": "code",
   "execution_count": 1,
   "id": "2311aac8",
   "metadata": {},
   "outputs": [
    {
     "ename": "ModuleNotFoundError",
     "evalue": "No module named 'features'",
     "output_type": "error",
     "traceback": [
      "\u001b[1;31m---------------------------------------------------------------------------\u001b[0m",
      "\u001b[1;31mModuleNotFoundError\u001b[0m                       Traceback (most recent call last)",
      "Cell \u001b[1;32mIn[1], line 3\u001b[0m\n\u001b[0;32m      1\u001b[0m \u001b[38;5;28;01mimport\u001b[39;00m\u001b[38;5;250m \u001b[39m\u001b[38;5;21;01mpandas\u001b[39;00m\u001b[38;5;250m \u001b[39m\u001b[38;5;28;01mas\u001b[39;00m\u001b[38;5;250m \u001b[39m\u001b[38;5;21;01mpd\u001b[39;00m\n\u001b[0;32m      2\u001b[0m \u001b[38;5;28;01mimport\u001b[39;00m\u001b[38;5;250m \u001b[39m\u001b[38;5;21;01mnumpy\u001b[39;00m\u001b[38;5;250m \u001b[39m\u001b[38;5;28;01mas\u001b[39;00m\u001b[38;5;250m \u001b[39m\u001b[38;5;21;01mnp\u001b[39;00m\n\u001b[1;32m----> 3\u001b[0m \u001b[38;5;28;01mfrom\u001b[39;00m\u001b[38;5;250m \u001b[39m\u001b[38;5;21;01mfeatures\u001b[39;00m\u001b[38;5;21;01m.\u001b[39;00m\u001b[38;5;21;01mpreprocess_catboost\u001b[39;00m\u001b[38;5;250m \u001b[39m\u001b[38;5;28;01mimport\u001b[39;00m preprocess_project_data \u001b[38;5;28;01mas\u001b[39;00m load_data\n\u001b[0;32m      4\u001b[0m \u001b[38;5;28;01mfrom\u001b[39;00m\u001b[38;5;250m \u001b[39m\u001b[38;5;21;01mutils\u001b[39;00m\u001b[38;5;21;01m.\u001b[39;00m\u001b[38;5;21;01mmetrics\u001b[39;00m\u001b[38;5;250m \u001b[39m\u001b[38;5;28;01mimport\u001b[39;00m regression_metrics, quantile_coverage, print_metrics\n\u001b[0;32m      5\u001b[0m \u001b[38;5;28;01mfrom\u001b[39;00m\u001b[38;5;250m \u001b[39m\u001b[38;5;21;01mmodels\u001b[39;00m\u001b[38;5;21;01m.\u001b[39;00m\u001b[38;5;21;01mlinear_model\u001b[39;00m\u001b[38;5;250m \u001b[39m\u001b[38;5;28;01mimport\u001b[39;00m load_features_and_split, train_linear_regression\n",
      "\u001b[1;31mModuleNotFoundError\u001b[0m: No module named 'features'"
     ]
    }
   ],
   "source": [
    "import pandas as pd\n",
    "import numpy as np\n",
    "from features.preprocess_catboost import preprocess_project_data as load_data\n",
    "from utils.metrics import regression_metrics, quantile_coverage, print_metrics\n",
    "from models.linear_model import load_features_and_split, train_linear_regression\n",
    "from models.catboost_model import train_catboost, train_catboost_quantiles, predict_interval as cat_predict_interval\n",
    "from models.lightgbm_model import train_lightgbm, train_lightgbm_quantiles, predict_interval as lgbm_predict_interval\n",
    "from models.random_forest import train_random_forest\n",
    "from models.xgboost_model import train_xgboost"
   ]
  },
  {
   "cell_type": "code",
   "execution_count": 4,
   "id": "cdb33bde",
   "metadata": {},
   "outputs": [],
   "source": [
    "from sklearn.model_selection import train_test_split"
   ]
  },
  {
   "cell_type": "code",
   "execution_count": 9,
   "id": "11c66dcf",
   "metadata": {},
   "outputs": [
    {
     "name": "stdout",
     "output_type": "stream",
     "text": [
      "c:\\Users\\Utilisateur\\Desktop\\KUL\\S2\\ModernDataAnalytics\\Test\\Modern-Data-Analytics\\models\\linear_model.py\n"
     ]
    }
   ],
   "source": [
    "import linear_model\n",
    "print(linear_model.__file__)"
   ]
  },
  {
   "cell_type": "code",
   "execution_count": null,
   "id": "863e7d76",
   "metadata": {},
   "outputs": [
    {
     "ename": "ImportError",
     "evalue": "cannot import name 'load_features_and_split' from 'models.linear_model' (c:\\Users\\Utilisateur\\Desktop\\KUL\\S2\\ModernDataAnalytics\\Test\\Modern-Data-Analytics\\models\\linear_model.py)",
     "output_type": "error",
     "traceback": [
      "\u001b[1;31m---------------------------------------------------------------------------\u001b[0m",
      "\u001b[1;31mImportError\u001b[0m                               Traceback (most recent call last)",
      "Cell \u001b[1;32mIn[5], line 3\u001b[0m\n\u001b[0;32m      1\u001b[0m sys\u001b[38;5;241m.\u001b[39mpath\u001b[38;5;241m.\u001b[39minsert(\u001b[38;5;241m0\u001b[39m, os\u001b[38;5;241m.\u001b[39mpath\u001b[38;5;241m.\u001b[39mabspath(os\u001b[38;5;241m.\u001b[39mpath\u001b[38;5;241m.\u001b[39mjoin(os\u001b[38;5;241m.\u001b[39mgetcwd(), \u001b[38;5;124m\"\u001b[39m\u001b[38;5;124m..\u001b[39m\u001b[38;5;124m\"\u001b[39m, \u001b[38;5;124m\"\u001b[39m\u001b[38;5;124mmodels\u001b[39m\u001b[38;5;124m\"\u001b[39m)))\n\u001b[1;32m----> 3\u001b[0m \u001b[38;5;28;01mfrom\u001b[39;00m\u001b[38;5;250m \u001b[39m\u001b[38;5;21;01mmodels\u001b[39;00m\u001b[38;5;21;01m.\u001b[39;00m\u001b[38;5;21;01mlinear_model\u001b[39;00m\u001b[38;5;250m \u001b[39m\u001b[38;5;28;01mimport\u001b[39;00m load_features_and_split, train_linear_regression\n",
      "\u001b[1;31mImportError\u001b[0m: cannot import name 'load_features_and_split' from 'models.linear_model' (c:\\Users\\Utilisateur\\Desktop\\KUL\\S2\\ModernDataAnalytics\\Test\\Modern-Data-Analytics\\models\\linear_model.py)"
     ]
    }
   ],
   "source": [
    "\n",
    "sys.path.insert(0, os.path.abspath(os.path.join(os.getcwd(), \"..\", \"models\")))\n",
    "\n",
    "\n"
   ]
  },
  {
   "cell_type": "code",
   "execution_count": 6,
   "id": "c70add42",
   "metadata": {},
   "outputs": [],
   "source": [
    "# Add the *parent* of models to the path\n",
    "project_root = os.path.abspath(os.path.join(os.getcwd(), \"..\"))\n",
    "sys.path.insert(0, os.path.join(project_root, \"models\"))\n"
   ]
  },
  {
   "cell_type": "code",
   "execution_count": 6,
   "id": "596955eb",
   "metadata": {},
   "outputs": [
    {
     "name": "stdout",
     "output_type": "stream",
     "text": [
      "Categorical feature names: ['fundingScheme', 'masterCall']\n"
     ]
    }
   ],
   "source": [
    "cat_features = [col for col in X_train.columns if X_train[col].dtype == \"object\"]\n",
    "print(\"Categorical feature names:\", cat_features)\n"
   ]
  },
  {
   "cell_type": "code",
   "execution_count": 7,
   "id": "d7dd53b6",
   "metadata": {},
   "outputs": [],
   "source": [
    "catboost_params = {\n",
    "    \"iterations\": 800,\n",
    "    \"learning_rate\": 0.03,\n",
    "    \"depth\": 6,\n",
    "    \"verbose\": 0,\n",
    "    \"random_seed\": 32\n",
    "}\n",
    "\n",
    "catboost_quantile_params = {\n",
    "    \"iterations\": 500,\n",
    "    \"learning_rate\": 0.03,\n",
    "    \"depth\": 6,\n",
    "    \"verbose\": 0,\n",
    "    \"random_seed\": 42\n",
    "}\n",
    "\n",
    "lgbm_params = {\n",
    "    \"n_estimators\": 500,\n",
    "    \"learning_rate\": 0.03,\n",
    "    \"num_leaves\": 31,\n",
    "    \"verbose\": -1\n",
    "}\n",
    "\n",
    "lgbm_quantile_params = {\n",
    "    \"n_estimators\": 500,\n",
    "    \"learning_rate\": 0.03,\n",
    "    \"num_leaves\": 31,\n",
    "    \"verbose\": -1\n",
    "}\n",
    "\n",
    "rf_params = {\"n_estimators\": 200, \"max_depth\": 6, \"random_state\": 42}\n",
    "linreg_params = {}  # scikit-learn LinearRegression has no meaningful hyperparameters\n",
    "xgb_params = {\"n_estimators\": 500, \"learning_rate\": 0.03, \"max_depth\": 6, \"verbosity\": 0, \"random_state\": 42}"
   ]
  },
  {
   "cell_type": "code",
   "execution_count": 10,
   "id": "5caaa588",
   "metadata": {},
   "outputs": [
    {
     "name": "stdout",
     "output_type": "stream",
     "text": [
      "\n",
      "CatBoost Point Metrics:\n",
      "RMSE: 89.1130\n",
      "MAE: 64.2151\n",
      "R2: 0.4931\n",
      "\n",
      "CatBoost Interval Metrics:\n",
      "Interval Coverage: 0.8912\n",
      "Avg Interval Width: 266.8153\n"
     ]
    }
   ],
   "source": [
    "cat_model = train_catboost(X_train, y_train,catboost_params=catboost_params,cat_features=cat_features)\n",
    "\n",
    "y_pred_cat = cat_model.predict(X_test)\n",
    "print_metrics(\"CatBoost Point\", regression_metrics(y_test, y_pred_cat))\n",
    "\n",
    "cat_low = train_catboost_quantiles(X_train, y_train, alpha=0.05, catboost_quantile_params=catboost_quantile_params, cat_features=cat_features)\n",
    "cat_med = train_catboost_quantiles(X_train, y_train, alpha=0.5, catboost_quantile_params=catboost_quantile_params, cat_features=cat_features)\n",
    "cat_high = train_catboost_quantiles(X_train, y_train, alpha=0.95, catboost_quantile_params=catboost_quantile_params, cat_features=cat_features)\n",
    "intervals_cat = cat_predict_interval(cat_low, cat_med, cat_high, X_test)\n",
    "print_metrics(\"CatBoost Interval\", quantile_coverage(y_test, intervals_cat))"
   ]
  },
  {
   "cell_type": "code",
   "execution_count": null,
   "id": "ea33c6cb",
   "metadata": {},
   "outputs": [],
   "source": [
    "lgbm_model = train_lightgbm(X_train, y_train, lgbm_params=lgbm_params)\n",
    "y_pred_lgbm = lgbm_model.predict(X_test)\n",
    "print_metrics(\"LightGBM Point\", regression_metrics(y_test, y_pred_lgbm))\n",
    "\n",
    "lgbm_low = train_lightgbm_quantiles(X_train, y_train, alpha=0.05, lgbm_quantile_params=lgbm_quantile_params)\n",
    "lgbm_med = train_lightgbm_quantiles(X_train, y_train, alpha=0.5, lgbm_quantile_params=lgbm_quantile_params)\n",
    "lgbm_high = train_lightgbm_quantiles(X_train, y_train, alpha=0.95, lgbm_quantile_params=lgbm_quantile_params)\n",
    "intervals_lgbm = lgbm_predict_interval(lgbm_low, lgbm_med, lgbm_high, X_test)\n",
    "print_metrics(\"LightGBM Interval\", quantile_coverage(y_test, intervals_lgbm))"
   ]
  },
  {
   "cell_type": "code",
   "execution_count": null,
   "id": "86d3e1a1",
   "metadata": {},
   "outputs": [],
   "source": [
    "rf_model = train_random_forest(X_train, y_train, rf_params=rf_params)\n",
    "y_pred_rf = rf_model.predict(X_test)\n",
    "print_metrics(\"Random Forest\", regression_metrics(y_test, y_pred_rf))"
   ]
  },
  {
   "cell_type": "code",
   "execution_count": null,
   "id": "38546952",
   "metadata": {},
   "outputs": [],
   "source": [
    "def print_metrics(model_name, metrics_dict):\n",
    "    print(f\"\\n📊 Performance for {model_name}\")\n",
    "    for k, v in metrics_dict.items():\n",
    "        print(f\"{k}: {v:.4f}\")\n",
    "\n",
    "# Load data\n",
    "X_train, X_test, y_train, y_test = load_features_and_split()\n",
    "\n",
    "# Train model\n",
    "linreg_model = train_linear_regression(X_train, y_train)\n",
    "\n",
    "# Predict\n",
    "y_pred_lin = linreg_model.predict(X_test)\n",
    "\n",
    "# Evaluate\n",
    "metrics = regression_metrics(y_test, y_pred_lin)\n",
    "print_metrics(\"Linear Regression\", metrics)"
   ]
  },
  {
   "cell_type": "code",
   "execution_count": null,
   "id": "ee05815d",
   "metadata": {},
   "outputs": [],
   "source": [
    "xgb_model = train_xgboost(X_train, y_train, xgb_params=xgb_params)\n",
    "y_pred_xgb = xgb_model.predict(X_test)\n",
    "print_metrics(\"XGBoost\", regression_metrics(y_test, y_pred_xgb))"
   ]
  }
 ],
 "metadata": {
  "kernelspec": {
   "display_name": ".venv",
   "language": "python",
   "name": "python3"
  },
  "language_info": {
   "codemirror_mode": {
    "name": "ipython",
    "version": 3
   },
   "file_extension": ".py",
   "mimetype": "text/x-python",
   "name": "python",
   "nbconvert_exporter": "python",
   "pygments_lexer": "ipython3",
   "version": "3.9.13"
  }
 },
 "nbformat": 4,
 "nbformat_minor": 5
}
